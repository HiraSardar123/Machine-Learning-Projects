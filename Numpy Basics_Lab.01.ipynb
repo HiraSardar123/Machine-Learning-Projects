{
  "cells": [
    {
      "cell_type": "markdown",
      "metadata": {
        "id": "FqvS8qbVRgxM"
      },
      "source": [
        "#  **Introduction to Machine Learning Lab 1**\n",
        "\n",
        "This is the first lab where we will explore the basics of Google Colab and write our first Python\n",
        "code!"
      ]
    },
    {
      "cell_type": "markdown",
      "metadata": {},
      "source": [
        "##  Why Numpy?\n",
        "It is the foundation of most ML workflows, providing fast and efficient array computations, vectorized operations, and an overall boost in speed."
      ]
    },
    {
      "cell_type": "markdown",
      "metadata": {
        "id": "iFwKBN00SSxE"
      },
      "source": [
        "\n",
        "\n",
        "*   **Example**\n",
        "\n",
        "This simple vectorized operation gives us the BMI of all individuals in one go, demonstrating how NumPy makes code both faster and more readable.\n"
      ]
    },
    {
      "cell_type": "code",
      "execution_count": 9,
      "metadata": {
        "colab": {
          "base_uri": "https://localhost:8080/"
        },
        "id": "Eik4i5yESPv7",
        "outputId": "f22a7e62-2376-4b80-e24f-b21e11810896"
      },
      "outputs": [
        {
          "name": "stdout",
          "output_type": "stream",
          "text": [
            "bmi:\n",
            "[21.2244898  24.07407407 18.36547291]\n"
          ]
        }
      ],
      "source": [
        "import numpy as np\n",
        "heights = np.array([1.75, 1.80, 1.65]) # in meters\n",
        "weights = np.array([65, 78, 50]) # in kg\n",
        "bmi = weights / (heights ** 2)\n",
        "print(\"bmi:\")\n",
        "print(bmi)"
      ]
    },
    {
      "cell_type": "markdown",
      "metadata": {
        "id": "Vg42pX-fS5oF"
      },
      "source": [
        "\n",
        "\n",
        "*   **Data Preprocessing**\n",
        "\n",
        "Before training ML models, data needs to be cleaned, transformed, and\n",
        "normalized.\n",
        "\n"
      ]
    },
    {
      "cell_type": "code",
      "execution_count": 3,
      "metadata": {
        "colab": {
          "base_uri": "https://localhost:8080/"
        },
        "id": "_l-8N8v0TFqY",
        "outputId": "eda21aa8-170a-441a-dd9c-c83abd6886cc"
      },
      "outputs": [
        {
          "name": "stdout",
          "output_type": "stream",
          "text": [
            "Normalized Data:\n",
            "[-1.2070197  -0.74278135 -0.27854301  0.64993368  1.57841037]\n"
          ]
        }
      ],
      "source": [
        "data = np.array([4.0, 5.0, 6.0, 8.0, 10.0])\n",
        "normalized_data = (data - np.mean(data)) / np.std(data)\n",
        "print(\"Normalized Data:\")\n",
        "print(normalized_data)"
      ]
    },
    {
      "cell_type": "markdown",
      "metadata": {
        "id": "HIrPIajDTPmG"
      },
      "source": [
        "\n",
        "\n",
        "*   **Matrix Operations**\n",
        "\n",
        "Most ML models, like linear regression, decision trees, and neural\n",
        "networks, involve matrix multiplication, a task that NumPy handles with ease.\n",
        "\n"
      ]
    },
    {
      "cell_type": "code",
      "execution_count": 8,
      "metadata": {
        "colab": {
          "base_uri": "https://localhost:8080/"
        },
        "id": "S4C2l2_eYCC9",
        "outputId": "1c9a7da0-ecea-4363-f8a8-aa7f5f0f942d"
      },
      "outputs": [
        {
          "name": "stdout",
          "output_type": "stream",
          "text": [
            "A:\n",
            "[[1 2]\n",
            " [3 4]]\n",
            "B:\n",
            "[[5 6]\n",
            " [7 8]]\n",
            "Result(A.B):\n",
            "[[19 22]\n",
            " [43 50]]\n",
            "X:\n",
            "[[1 2]\n",
            " [3 4]\n",
            " [5 6]]\n",
            "beta:\n",
            "[0.5 1.5]\n",
            "b:\n",
            "0.1\n",
            "Predicted value(X.beta + b):\n",
            "[ 3.6  7.6 11.6]\n"
          ]
        }
      ],
      "source": [
        "#Dot Product\n",
        "A = np.array([[1, 2], [3, 4]])\n",
        "B = np.array([[5, 6], [7, 8]])\n",
        "result = np.dot(A, B)\n",
        "print(\"A:\")\n",
        "print(A)\n",
        "print(\"B:\")\n",
        "print(B)\n",
        "print(\"Result(A.B):\")\n",
        "print(result)\n",
        "#Linear regression\n",
        "X = np.array([[1, 2], [3, 4], [5, 6]])\n",
        "beta = np.array([0.5, 1.5])\n",
        "b = 0.1\n",
        "y_pred = np.dot(X, beta) + b\n",
        "print(\"X:\")\n",
        "print(X)\n",
        "print(\"beta:\")\n",
        "print(beta)\n",
        "print(\"b:\")\n",
        "print(b)\n",
        "print(\"Predicted value(X.beta + b):\")\n",
        "print(y_pred)"
      ]
    },
    {
      "cell_type": "markdown",
      "metadata": {
        "id": "8NGBFnE3ZB_w"
      },
      "source": [
        "# Key Numpy Concepts"
      ]
    },
    {
      "cell_type": "markdown",
      "metadata": {
        "id": "n2cJeVu0ZYAo"
      },
      "source": [
        "\n",
        "\n",
        "*   **Arrays vs Lists**\n",
        "\n",
        "Python lists are versatile, but they’re not optimized for heavy numerical computations, which is why NumPy arrays are a better choice for ML tasks.\n"
      ]
    },
    {
      "cell_type": "code",
      "execution_count": 13,
      "metadata": {
        "colab": {
          "base_uri": "https://localhost:8080/"
        },
        "id": "85ZaOgg-ZjEh",
        "outputId": "995c0f91-d92d-4732-9274-84dede366eb6"
      },
      "outputs": [
        {
          "name": "stdout",
          "output_type": "stream",
          "text": [
            "List Concatenation(Simple Addition):\n",
            "[1, 2, 3, 4, 5, 6]\n",
            "List Sum(Addition using loops):\n",
            "[5, 7, 9]\n",
            "Arrays Sum(Simple Addition):\n",
            "[5 7 9]\n"
          ]
        }
      ],
      "source": [
        "#Lists\n",
        "\n",
        "list_a = [1, 2, 3]\n",
        "list_b = [4, 5, 6]\n",
        "result = list_a + list_b\n",
        "print(\"List Concatenation(Simple Addition):\")\n",
        "print(result)\n",
        "list_sum = [a + b for a,b in zip(list_a, list_b)]\n",
        "print(\"List Sum(Addition using loops):\")\n",
        "print(list_sum)\n",
        "\n",
        "#Arrays\n",
        "\n",
        "import numpy as np\n",
        "array_a = np.array([1, 2, 3])\n",
        "array_b = np.array([4, 5, 6])\n",
        "result = array_a + array_b\n",
        "print(\"Arrays Sum(Simple Addition):\")\n",
        "print(result)"
      ]
    },
    {
      "cell_type": "markdown",
      "metadata": {
        "id": "ydZx-2JibSck"
      },
      "source": [
        "\n",
        "*   **Creating Numpy Arrays**\n",
        "\n",
        "1.   From Lists: The simplest way to create an array is by converting a Python list using np.array()\n",
        "2.   Using np.zeros() and np.ones(): These functions create arrays filled with zeros or ones, respectively.\n",
        "3.   Using np.random(): Often, you&#39;ll want arrays filled with random numbers. NumPy’s random module allows you to create arrays with random values, which are essential in ML for tasks like initializing neural networks or splitting data.\n",
        "\n",
        "\n",
        "\n",
        "\n",
        "\n"
      ]
    },
    {
      "cell_type": "code",
      "execution_count": 15,
      "metadata": {
        "colab": {
          "base_uri": "https://localhost:8080/"
        },
        "id": "jVAXxzo4budS",
        "outputId": "4f11c579-f253-4577-95f2-7cfb01c8980f"
      },
      "outputs": [
        {
          "name": "stdout",
          "output_type": "stream",
          "text": [
            "a:\n",
            "[1 2 3 4]\n",
            "b:\n",
            "[[0. 0. 0.]\n",
            " [0. 0. 0.]\n",
            " [0. 0. 0.]]\n",
            "c:\n",
            "[[1. 1. 1. 1.]\n",
            " [1. 1. 1. 1.]]\n",
            "d:\n",
            "[[0.90801676 0.56971275 0.5082838 ]\n",
            " [0.11303518 0.12568421 0.07195756]]\n"
          ]
        }
      ],
      "source": [
        "# From Lists\n",
        "a = np.array([1, 2, 3, 4])\n",
        "print(\"a:\")\n",
        "print(a)\n",
        "# Using np.zeros() and np.ones()\n",
        "b = np.zeros((3, 3)) # A 3x3 matrix of zeros\n",
        "print(\"b:\")\n",
        "print(b)\n",
        "c = np.ones((2, 4)) # A 2x4 matrix of ones\n",
        "print(\"c:\")\n",
        "print(c)\n",
        "# Using np.random()\n",
        "d = np.random.random((2, 3))\n",
        "print(\"d:\")\n",
        "print(d)"
      ]
    },
    {
      "cell_type": "markdown",
      "metadata": {
        "id": "iyHGZuXMcb6Y"
      },
      "source": [
        "\n",
        "\n",
        "*   **Basic Array Operations**\n",
        "\n",
        "\n",
        "\n",
        "1.   Addition, Subtraction, Multiplication - Operations are performed element-wise, which means they are applied to each element of the arrays.\n",
        "2.   Broadcasting - NumPy automatically expands smaller arrays so they can match the dimensions\n",
        "of larger arrays.\n",
        "\n",
        "\n",
        "\n"
      ]
    },
    {
      "cell_type": "code",
      "execution_count": 17,
      "metadata": {
        "colab": {
          "base_uri": "https://localhost:8080/"
        },
        "id": "F-lxc_rEctOw",
        "outputId": "2e8b318a-326c-4aaa-c819-99e74cd0e0d2"
      },
      "outputs": [
        {
          "name": "stdout",
          "output_type": "stream",
          "text": [
            "a:\n",
            "[1 2 3]\n",
            "b:\n",
            "[4 5 6]\n",
            "a + b:\n",
            "[5 7 9]\n",
            "a * b:\n",
            "[ 4 10 18]\n",
            "a:\n",
            "[[1 2 3]\n",
            " [4 5 6]]\n",
            "b:\n",
            "[1 2 3]\n",
            "a + b:\n",
            "[[2 4 6]\n",
            " [5 7 9]]\n"
          ]
        }
      ],
      "source": [
        "#Addition, Subtraction, Multiplication\n",
        "a = np.array([1, 2, 3])\n",
        "b = np.array([4, 5, 6])\n",
        "print(\"a:\")\n",
        "print(a)\n",
        "print(\"b:\")\n",
        "print(b)\n",
        "print(\"a + b:\")\n",
        "print(a + b)\n",
        "print(\"a * b:\")\n",
        "print(a * b)\n",
        "#BroadCasting\n",
        "a = np.array([[1, 2, 3], [4, 5, 6]])\n",
        "b = np.array([1, 2, 3])\n",
        "print(\"a:\")\n",
        "print(a)\n",
        "print(\"b:\")\n",
        "print(b)\n",
        "print(\"a + b:\")\n",
        "print(a + b)"
      ]
    },
    {
      "cell_type": "markdown",
      "metadata": {
        "id": "sMLIcyM5dd3X"
      },
      "source": [
        "\n",
        "*   **Reshaping Arrays**\n",
        "\n",
        "\n",
        "\n",
        "\n",
        "1.   Reshaping - You can reshape an array into any shape, as long as the total number of elements stays the same.\n",
        "2.   Flattening - In contrast, sometimes you need to flatten multi-dimensional arrays back into a single-dimensional form for processing.\n",
        "\n"
      ]
    },
    {
      "cell_type": "code",
      "execution_count": 19,
      "metadata": {
        "colab": {
          "base_uri": "https://localhost:8080/"
        },
        "id": "lAABKZwpduMb",
        "outputId": "a6589f2f-bd17-4659-d748-5d6db068beac"
      },
      "outputs": [
        {
          "name": "stdout",
          "output_type": "stream",
          "text": [
            "a:\n",
            "[1 2 3 4 5 6]\n",
            "Reshaped a:\n",
            "[[1 2 3]\n",
            " [4 5 6]]\n",
            "Flattened a:\n",
            "[1 2 3 4 5 6]\n"
          ]
        }
      ],
      "source": [
        "#Reshaping\n",
        "a = np.array([1, 2, 3, 4, 5, 6])\n",
        "print(\"a:\")\n",
        "print(a)\n",
        "a_reshaped = a.reshape(2, 3) # 2 rows, 3 columns\n",
        "print(\"Reshaped a:\")\n",
        "print(a_reshaped)\n",
        "#Flattening\n",
        "a_flat = a_reshaped.flatten()\n",
        "print(\"Flattened a:\")\n",
        "print(a_flat) # Output: [1, 2, 3, 4, 5, 6]"
      ]
    },
    {
      "cell_type": "markdown",
      "metadata": {
        "id": "eaLZxEyteMJb"
      },
      "source": [
        "## Hands-On Coding"
      ]
    },
    {
      "cell_type": "markdown",
      "metadata": {
        "id": "lmHP7Ek0ePYS"
      },
      "source": [
        "\n",
        "\n",
        "*   Creating and Manipulating Arrays\n",
        "*   Generating a Random Matrix and Performing Operations\n",
        "*   Reshaping and Slicing\n",
        "\n",
        "\n",
        "\n",
        "\n"
      ]
    },
    {
      "cell_type": "code",
      "execution_count": 20,
      "metadata": {
        "colab": {
          "base_uri": "https://localhost:8080/"
        },
        "id": "SOottE5sebjM",
        "outputId": "6a114ce3-f9bb-4d58-ac54-a34ec1a5e0a9"
      },
      "outputs": [
        {
          "name": "stdout",
          "output_type": "stream",
          "text": [
            "[10 20 30 40]\n"
          ]
        }
      ],
      "source": [
        "#Creating a 1D Array from a List\n",
        "import numpy as np\n",
        "array_1d = np.array([10, 20, 30, 40])\n",
        "print(array_1d)"
      ]
    },
    {
      "cell_type": "code",
      "execution_count": 21,
      "metadata": {
        "colab": {
          "base_uri": "https://localhost:8080/"
        },
        "id": "iyesyKC-ehD_",
        "outputId": "cf06d7f6-72c4-491b-804b-efd26f690a95"
      },
      "outputs": [
        {
          "name": "stdout",
          "output_type": "stream",
          "text": [
            "[[1 2 3]\n",
            " [4 5 6]]\n"
          ]
        }
      ],
      "source": [
        "#Creating a 2D Array (Matrix)\n",
        "array_2d = np.array([[1, 2, 3], [4, 5, 6]])\n",
        "print(array_2d)"
      ]
    },
    {
      "cell_type": "code",
      "execution_count": 22,
      "metadata": {
        "colab": {
          "base_uri": "https://localhost:8080/"
        },
        "id": "kQ1-vA8yeqHX",
        "outputId": "e7d78fd8-9d24-4a9b-d028-d1e51dae575e"
      },
      "outputs": [
        {
          "name": "stdout",
          "output_type": "stream",
          "text": [
            "[15 25 35 45]\n"
          ]
        }
      ],
      "source": [
        "#Performing Operations\n",
        "array_sum = array_1d + 5 # Add 5 to every element\n",
        "print(array_sum)"
      ]
    },
    {
      "cell_type": "code",
      "execution_count": 26,
      "metadata": {
        "colab": {
          "base_uri": "https://localhost:8080/"
        },
        "id": "dTdo_HYVe0Xv",
        "outputId": "28d221c8-1519-4657-f287-8b49d0a36c22"
      },
      "outputs": [
        {
          "name": "stdout",
          "output_type": "stream",
          "text": [
            "[[0.71524001 0.93497014 0.14633754]\n",
            " [0.08507332 0.15560506 0.0822161 ]\n",
            " [0.41443847 0.78831516 0.42726447]]\n"
          ]
        }
      ],
      "source": [
        "#Generating a Random Matrix\n",
        "random_matrix = np.random.random((3, 3))\n",
        "print(random_matrix)"
      ]
    },
    {
      "cell_type": "code",
      "execution_count": 28,
      "metadata": {
        "colab": {
          "base_uri": "https://localhost:8080/"
        },
        "id": "h2MWVcfEe4RH",
        "outputId": "598ab5f0-e711-416d-87c9-690d5d5332a9"
      },
      "outputs": [
        {
          "name": "stdout",
          "output_type": "stream",
          "text": [
            "[[71.5240009  93.497014   14.63375432]\n",
            " [ 8.50733189 15.56050563  8.22160966]\n",
            " [41.44384706 78.83151614 42.72644661]]\n"
          ]
        }
      ],
      "source": [
        "#Matrix Operations\n",
        "random_matrix_scaled = random_matrix * 100 # Scale all values by 100\n",
        "print(random_matrix_scaled)"
      ]
    },
    {
      "cell_type": "code",
      "execution_count": 29,
      "metadata": {
        "colab": {
          "base_uri": "https://localhost:8080/"
        },
        "id": "DrLhrq-ffB2K",
        "outputId": "cb116780-23f9-4b2c-84c9-0785b410d5a0"
      },
      "outputs": [
        {
          "name": "stdout",
          "output_type": "stream",
          "text": [
            "[[1 2 3]\n",
            " [4 5 6]]\n"
          ]
        }
      ],
      "source": [
        "#Reshaping Arrays\n",
        "reshaped_array = np.array([1, 2, 3, 4, 5, 6]).reshape(2, 3) # 2 rows, 3 columns\n",
        "print(reshaped_array)"
      ]
    },
    {
      "cell_type": "code",
      "execution_count": 41,
      "metadata": {
        "colab": {
          "base_uri": "https://localhost:8080/"
        },
        "id": "jami61cGfR_M",
        "outputId": "334bf57a-ddf1-42d3-8452-fb58a4b5c5bf"
      },
      "outputs": [
        {
          "name": "stdout",
          "output_type": "stream",
          "text": [
            "Sliced first two rows and first two columns:\n",
            " [[0.49772925 0.99325616]\n",
            " [0.8009884  0.36944866]]\n",
            "Random array: first two rows and first two columns:\n",
            " [[0.49772925 0.99325616]\n",
            " [0.8009884  0.36944866]]\n",
            "Checking Operations by myself:\n",
            "First five rows and all columns:\n",
            " [[0.49772925 0.99325616 0.91293688 0.19604905 0.5430586  0.86099027\n",
            "  0.57858541 0.28204061 0.63233131 0.59647284]\n",
            " [0.8009884  0.36944866 0.29899703 0.27307606 0.52776987 0.45620944\n",
            "  0.11884622 0.23322397 0.70378128 0.1504109 ]\n",
            " [0.47834408 0.47209556 0.87711095 0.42235703 0.32206072 0.55398484\n",
            "  0.34607823 0.89927002 0.01145921 0.16761387]\n",
            " [0.25555613 0.13141404 0.83819521 0.55573105 0.70456404 0.98189668\n",
            "  0.2886531  0.38387191 0.46957168 0.20477434]\n",
            " [0.06068014 0.82759297 0.32309044 0.55871752 0.08939073 0.10767365\n",
            "  0.40365176 0.81791433 0.31753991 0.46206635]]\n",
            "All rows and first two columns:\n",
            " [[0.49772925 0.99325616]\n",
            " [0.8009884  0.36944866]\n",
            " [0.47834408 0.47209556]\n",
            " [0.25555613 0.13141404]\n",
            " [0.06068014 0.82759297]\n",
            " [0.8313283  0.29663488]\n",
            " [0.82467636 0.24305915]\n",
            " [0.63076667 0.81955803]\n",
            " [0.41137628 0.62363708]\n",
            " [0.20493735 0.76603026]]\n",
            "First two rows and all columns:\n",
            " [[0.49772925 0.99325616 0.91293688 0.19604905 0.5430586  0.86099027\n",
            "  0.57858541 0.28204061 0.63233131 0.59647284]\n",
            " [0.8009884  0.36944866 0.29899703 0.27307606 0.52776987 0.45620944\n",
            "  0.11884622 0.23322397 0.70378128 0.1504109 ]]\n",
            "All but the last two rows and columns:\n",
            " [[0.49772925 0.99325616 0.91293688 0.19604905 0.5430586  0.86099027\n",
            "  0.57858541 0.28204061]\n",
            " [0.8009884  0.36944866 0.29899703 0.27307606 0.52776987 0.45620944\n",
            "  0.11884622 0.23322397]\n",
            " [0.47834408 0.47209556 0.87711095 0.42235703 0.32206072 0.55398484\n",
            "  0.34607823 0.89927002]\n",
            " [0.25555613 0.13141404 0.83819521 0.55573105 0.70456404 0.98189668\n",
            "  0.2886531  0.38387191]\n",
            " [0.06068014 0.82759297 0.32309044 0.55871752 0.08939073 0.10767365\n",
            "  0.40365176 0.81791433]\n",
            " [0.8313283  0.29663488 0.43142596 0.51158445 0.18960962 0.63624444\n",
            "  0.23088911 0.75893723]\n",
            " [0.82467636 0.24305915 0.28499852 0.95047704 0.67116183 0.29178353\n",
            "  0.09725874 0.01029339]\n",
            " [0.63076667 0.81955803 0.12067271 0.75905433 0.3150361  0.23721058\n",
            "  0.80389451 0.60612654]]\n"
          ]
        }
      ],
      "source": [
        "import numpy as np\n",
        "\n",
        "# Initialize a random 10x10 array\n",
        "a = np.random.random((10, 10))\n",
        "\n",
        "# 1. Slice the first two rows and first two columns of the reshaped array\n",
        "# This extracts the top-left 2x2 section of the array\n",
        "sliced_array = a[:2, :2]\n",
        "print(\"Sliced first two rows and first two columns:\\n\", sliced_array)\n",
        "\n",
        "# 2. Slice the first two rows and first two columns of the 10x10 random array\n",
        "sliced_array1 = a[:2, :2]\n",
        "print(\"Random array: first two rows and first two columns:\\n\", sliced_array1)\n",
        "\n",
        "#Checking Operations by myself.\n",
        "print(\"Checking Operations by myself:\")\n",
        "\n",
        "# 3. Slice the first five rows and all columns of the array\n",
        "sliced_array1 = a[:5, :]\n",
        "print(\"First five rows and all columns:\\n\", sliced_array1)\n",
        "\n",
        "# 4. Slice all 10 rows but only the first two columns of the array\n",
        "sliced_array1 = a[:10, :2]\n",
        "print(\"All rows and first two columns:\\n\", sliced_array1)\n",
        "\n",
        "# 5. Slice the first two rows and all columns of the array\n",
        "sliced_array1 = a[:2, :]\n",
        "print(\"First two rows and all columns:\\n\", sliced_array1)\n",
        "\n",
        "# 6. Slice all but the last two rows and all but the last two columns of the array\n",
        "sliced_array1 = a[:-2, :-2]\n",
        "print(\"All but the last two rows and columns:\\n\", sliced_array1)\n"
      ]
    },
    {
      "cell_type": "markdown",
      "metadata": {
        "id": "fYNPa880hVW5"
      },
      "source": [
        "## Mini Challenge"
      ]
    },
    {
      "cell_type": "code",
      "execution_count": 47,
      "metadata": {
        "colab": {
          "base_uri": "https://localhost:8080/"
        },
        "id": "tzcMSxtghXcG",
        "outputId": "e3b55a0f-7b41-46c5-ffa1-b72bdc1a64bb"
      },
      "outputs": [
        {
          "name": "stdout",
          "output_type": "stream",
          "text": [
            "w:\n",
            "[[ 477.98324348 1762.94455581 1134.53507411  140.07425079 1515.91591876]\n",
            " [1821.99482099 1220.99805677  216.55215038 1945.43714802  701.4272267 ]\n",
            " [ 423.75095515 1904.22195631  315.08038395 1959.96927411  325.82854892]\n",
            " [1517.33574291 1487.22749356 1226.04171374  326.00375965  571.14740022]\n",
            " [ 941.21218174  476.46377033 1672.81372889  714.92004486  602.79173951]]\n",
            "Normalized w:\n",
            "[[0.18567499 0.89173842 0.54643856 0.         0.75600057]\n",
            " [0.92418549 0.59394844 0.04202325 0.99201485 0.30845349]\n",
            " [0.15587531 0.96936784 0.09616276 1.         0.10206869]\n",
            " [0.75678073 0.74023679 0.59671984 0.10216496 0.23686704]\n",
            " [0.44021107 0.18484007 0.84221313 0.31586756 0.25425504]]\n"
          ]
        }
      ],
      "source": [
        "def normalization_performing_function(data):\n",
        "  # Calculate min and max\n",
        "  data_min = np.min(data)\n",
        "  data_max = np.max(data)\n",
        "  # Apply Min-Max normalization\n",
        "  normalized_data = (data - data_min) / (data_max - data_min)\n",
        "  return normalized_data\n",
        "\n",
        "w = np.random.random((5,5))*2000\n",
        "print(\"w:\")\n",
        "print(w)\n",
        "print(\"Normalized w:\")\n",
        "print(normalization_performing_function(w))"
      ]
    },
    {
      "cell_type": "markdown",
      "metadata": {
        "id": "zRAqz8KZjB1s"
      },
      "source": [
        "##  **Explaination:**\n",
        "\n",
        "I applied **Min-Max Scaling** to normalize the dataset, scaling all feature values between **0 and 1**. Below are some of the reasons due to which we will be using these techniques:\n",
        "\n",
        "- **Uniform Scale**: By scaling all features to a common range (typically 0 to 1), the model can treat each feature more equally, preventing any one feature from dominating the learning process due to its scale.\n",
        "  \n",
        "- **Prevents Bias**: Features with larger ranges can dominate learning (e.g., will have much larger gradients than others) if not scaled. Min-Max scaling prevents this by equalizing the range of all features.\n",
        "  \n",
        "- **Improves Model Efficiency**: Many machine learning algorithms, such as **Gradient Descent** and **Neural Networks**, converge faster and perform better when features are normalized between 0 and 1.\n",
        "\n",
        "- **Balanced Distance Calculations**: For algorithms like **K-Nearest Neighbors (KNN)** and **Support Vector Machines (SVMs)**, which use distance metrics, scaling ensures that all features contribute equally to the distance calculations, improving model predictions.\n",
        "\n",
        "- **Better Weight Handling**: Models using weights (e.g., neural networks) benefit from Min-Max scaling, as it prevents disproportionately large weights on features with larger ranges.\n",
        "\n",
        "- **Facilitates Feature Comparison**: Normalized features between 0 and 1 make it easier to compare the importance of different features and interpret relationships in the dataset.\n"
      ]
    }
  ],
  "metadata": {
    "colab": {
      "provenance": []
    },
    "kernelspec": {
      "display_name": "Python 3",
      "name": "python3"
    },
    "language_info": {
      "name": "python"
    }
  },
  "nbformat": 4,
  "nbformat_minor": 0
}
