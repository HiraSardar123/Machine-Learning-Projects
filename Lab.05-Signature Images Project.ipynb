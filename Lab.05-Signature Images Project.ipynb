{
  "cells": [
    {
      "cell_type": "markdown",
      "metadata": {
        "id": "HYYcBv15fkO3"
      },
      "source": [
        "#Feature extraction from signature images"
      ]
    },
    {
      "cell_type": "markdown",
      "metadata": {
        "id": "-OmOGUWrfrjX"
      },
      "source": [
        "##Unzip the file"
      ]
    },
    {
      "cell_type": "code",
      "execution_count": null,
      "metadata": {
        "colab": {
          "base_uri": "https://localhost:8080/"
        },
        "id": "IuclKWJ0masq",
        "outputId": "56c83774-d6f1-4938-e0c0-79fa5ba106a1"
      },
      "outputs": [
        {
          "name": "stdout",
          "output_type": "stream",
          "text": [
            "Reading package lists... Done\n",
            "Building dependency tree... Done\n",
            "Reading state information... Done\n",
            "unrar is already the newest version (1:6.1.5-1).\n",
            "0 upgraded, 0 newly installed, 0 to remove and 49 not upgraded.\n",
            "\n",
            "UNRAR 6.11 beta 1 freeware      Copyright (c) 1993-2022 Alexander Roshal\n",
            "\n",
            "\n",
            "Extracting from /content/Reference.rar\n",
            "\n",
            "Creating    /content/extracted_files/Reference                        OK\n",
            "Extracting  /content/extracted_files/Reference/R001.png                  \b\b\b\b  3%\b\b\b\b\b  OK \n",
            "Extracting  /content/extracted_files/Reference/R002.png                  \b\b\b\b  6%\b\b\b\b  7%\b\b\b\b\b  OK \n",
            "Extracting  /content/extracted_files/Reference/R003.png                  \b\b\b\b 10%\b\b\b\b 11%\b\b\b\b\b  OK \n",
            "Extracting  /content/extracted_files/Reference/R004.png                  \b\b\b\b 14%\b\b\b\b 15%\b\b\b\b\b  OK \n",
            "Extracting  /content/extracted_files/Reference/R005.png                  \b\b\b\b 18%\b\b\b\b\b  OK \n",
            "Extracting  /content/extracted_files/Reference/R006.png                  \b\b\b\b 22%\b\b\b\b 23%\b\b\b\b\b  OK \n",
            "Extracting  /content/extracted_files/Reference/R007.png                  \b\b\b\b 26%\b\b\b\b 27%\b\b\b\b\b  OK \n",
            "Extracting  /content/extracted_files/Reference/R008.png                  \b\b\b\b 30%\b\b\b\b\b  OK \n",
            "Extracting  /content/extracted_files/Reference/R009.png                  \b\b\b\b 34%\b\b\b\b 35%\b\b\b\b\b  OK \n",
            "Extracting  /content/extracted_files/Reference/R010.png                  \b\b\b\b 38%\b\b\b\b\b  OK \n",
            "Extracting  /content/extracted_files/Reference/R011.png                  \b\b\b\b 41%\b\b\b\b\b  OK \n",
            "Extracting  /content/extracted_files/Reference/R012.png                  \b\b\b\b 45%\b\b\b\b\b  OK \n",
            "Extracting  /content/extracted_files/Reference/R013.png                  \b\b\b\b 49%\b\b\b\b 50%\b\b\b\b\b  OK \n",
            "Extracting  /content/extracted_files/Reference/R014.png                  \b\b\b\b 53%\b\b\b\b 55%\b\b\b\b\b  OK \n",
            "Extracting  /content/extracted_files/Reference/R015.png                  \b\b\b\b 58%\b\b\b\b 59%\b\b\b\b\b  OK \n",
            "Extracting  /content/extracted_files/Reference/R016.png                  \b\b\b\b 62%\b\b\b\b 63%\b\b\b\b\b  OK \n",
            "Extracting  /content/extracted_files/Reference/R017.png                  \b\b\b\b 66%\b\b\b\b 67%\b\b\b\b\b  OK \n",
            "Extracting  /content/extracted_files/Reference/R018.png                  \b\b\b\b 70%\b\b\b\b 72%\b\b\b\b\b  OK \n",
            "Extracting  /content/extracted_files/Reference/R019.png                  \b\b\b\b 75%\b\b\b\b 76%\b\b\b\b\b  OK \n",
            "Extracting  /content/extracted_files/Reference/R020.png                  \b\b\b\b 79%\b\b\b\b 80%\b\b\b\b\b  OK \n",
            "Extracting  /content/extracted_files/Reference/R021.png                  \b\b\b\b 83%\b\b\b\b 84%\b\b\b\b\b  OK \n",
            "Extracting  /content/extracted_files/Reference/R022.png                  \b\b\b\b 87%\b\b\b\b 88%\b\b\b\b\b  OK \n",
            "Extracting  /content/extracted_files/Reference/R023.png                  \b\b\b\b 91%\b\b\b\b 92%\b\b\b\b\b  OK \n",
            "Extracting  /content/extracted_files/Reference/R024.png                  \b\b\b\b 95%\b\b\b\b 96%\b\b\b\b\b  OK \n",
            "Extracting  /content/extracted_files/Reference/R025.png                  \b\b\b\b 99%\b\b\b\b\b  OK \n",
            "Extracting  /content/extracted_files/Reference/Thumbs.db                 \b\b\b\b 99%\b\b\b\b\b  OK \n",
            "All OK\n"
          ]
        }
      ],
      "source": [
        "# Step 1: Install unrar if not already installed\n",
        "!apt-get install -y unrar\n",
        "\n",
        "# Step 2: Create a directory to extract the files\n",
        "!mkdir -p /content/extracted_files\n",
        "\n",
        "# Step 3: Extract the RAR file to the specified directory\n",
        "!unrar x /content/Reference.rar /content/extracted_files/"
      ]
    },
    {
      "cell_type": "markdown",
      "metadata": {
        "id": "5_ZXMchIful_"
      },
      "source": [
        "##Convertng image into black and white"
      ]
    },
    {
      "cell_type": "code",
      "execution_count": null,
      "metadata": {
        "colab": {
          "base_uri": "https://localhost:8080/"
        },
        "id": "CgMBQsi5nBbp",
        "outputId": "290da6b8-643f-4322-9603-d6fe13e304fd"
      },
      "outputs": [
        {
          "name": "stdout",
          "output_type": "stream",
          "text": [
            "Conversion to black and white is completed. Images saved in /content/black_and_white_images/\n"
          ]
        }
      ],
      "source": [
        "import os\n",
        "from PIL import Image\n",
        "\n",
        "# Create a directory to save the black-and-white images\n",
        "os.makedirs('/content/black_and_white_images', exist_ok=True)\n",
        "\n",
        "# Path to the folder with extracted images\n",
        "source_folder = '/content/extracted_files/Reference'\n",
        "destination_folder = '/content/black_and_white_images'\n",
        "\n",
        "# Convert each image to black and white and save\n",
        "for filename in os.listdir(source_folder):\n",
        "    if filename.endswith(\".png\"):\n",
        "        # Open the image file\n",
        "        image_path = os.path.join(source_folder, filename)\n",
        "        image_file = Image.open(image_path)\n",
        "\n",
        "        # Convert the image to black and white\n",
        "        bw_image = image_file.convert('1')\n",
        "\n",
        "        # Save the black-and-white image\n",
        "        bw_image.save(os.path.join(destination_folder, filename))\n",
        "\n",
        "print(\"Conversion to black and white is completed. Images saved in /content/black_and_white_images/\")\n"
      ]
    },
    {
      "cell_type": "markdown",
      "metadata": {
        "id": "Ir-FCohAfy0I"
      },
      "source": [
        "##Drawing Bounding Box around the images"
      ]
    },
    {
      "cell_type": "code",
      "execution_count": null,
      "metadata": {
        "colab": {
          "base_uri": "https://localhost:8080/"
        },
        "id": "J-2Cr_Bwncki",
        "outputId": "59e27669-357e-4197-fce0-48a1f37946f0"
      },
      "outputs": [
        {
          "name": "stdout",
          "output_type": "stream",
          "text": [
            "Bounding boxes have been drawn and saved in /content/bounding_box_images/\n"
          ]
        }
      ],
      "source": [
        "from PIL import Image, ImageDraw\n",
        "import os\n",
        "\n",
        "# Folder paths\n",
        "source_folder = '/content/black_and_white_images'\n",
        "bounding_box_folder = '/content/bounding_box_images'\n",
        "\n",
        "# Create folder to save images with bounding boxes\n",
        "os.makedirs(bounding_box_folder, exist_ok=True)\n",
        "\n",
        "# Function to find the bounding box\n",
        "def find_bounding_box(image):\n",
        "    width, height = image.size\n",
        "    left, right, top, bottom = width, 0, height, 0\n",
        "\n",
        "    # Iterate through each pixel\n",
        "    for x in range(width):\n",
        "        for y in range(height):\n",
        "            color = image.getpixel((x, y))\n",
        "            if color == 0:  # Pixel is black\n",
        "                if x > right:\n",
        "                    right = x\n",
        "                if x < left:\n",
        "                    left = x\n",
        "                if y > bottom:\n",
        "                    bottom = y\n",
        "                if y < top:\n",
        "                    top = y\n",
        "    return (left, top, right, bottom)\n",
        "\n",
        "# Iterate over each black-and-white image and draw a bounding box\n",
        "for filename in os.listdir(source_folder):\n",
        "    if filename.endswith(\".png\"):\n",
        "        image_path = os.path.join(source_folder, filename)\n",
        "        image = Image.open(image_path)\n",
        "\n",
        "        # Find the bounding box\n",
        "        bbox = find_bounding_box(image)\n",
        "\n",
        "        if bbox:\n",
        "            # Draw the bounding box on the original image\n",
        "            draw = ImageDraw.Draw(image)\n",
        "            draw.rectangle(bbox, outline=\"black\")\n",
        "\n",
        "            # Save the image with the bounding box\n",
        "            save_path = os.path.join(bounding_box_folder, filename)\n",
        "            image.save(save_path)\n",
        "\n",
        "print(\"Bounding boxes have been drawn and saved in /content/bounding_box_images/\")"
      ]
    },
    {
      "cell_type": "markdown",
      "metadata": {
        "id": "Cw60EsmXf5MF"
      },
      "source": [
        "##Finding centroid of the images"
      ]
    },
    {
      "cell_type": "code",
      "execution_count": null,
      "metadata": {
        "colab": {
          "base_uri": "https://localhost:8080/"
        },
        "id": "bGcNCQdVvgVE",
        "outputId": "9357e117-c8b8-4783-ac30-da80465db2a7"
      },
      "outputs": [
        {
          "name": "stdout",
          "output_type": "stream",
          "text": [
            "Centroids have been drawn and saved in /content/centroid_images/\n"
          ]
        }
      ],
      "source": [
        "from PIL import Image, ImageDraw\n",
        "import os\n",
        "\n",
        "# Folder paths\n",
        "bounding_box_folder = '/content/bounding_box_images'\n",
        "centroid_folder = '/content/centroid_images'\n",
        "\n",
        "# Create folder to save images with centroids\n",
        "os.makedirs(centroid_folder, exist_ok=True)\n",
        "\n",
        "# Function to calculate the centroid of black pixels\n",
        "def find_centroid(image):\n",
        "    width, height = image.size\n",
        "    cx, cy, n = 0, 0, 0\n",
        "\n",
        "    # Iterate through each pixel\n",
        "    for x in range(width):\n",
        "        for y in range(height):\n",
        "            color = image.getpixel((x, y))\n",
        "            if color == 0:  # Pixel is black\n",
        "                cx += x\n",
        "                cy += y\n",
        "                n += 1\n",
        "\n",
        "    # Calculate the centroid if there are black pixels\n",
        "    if n > 0:\n",
        "        cx /= n\n",
        "        cy /= n\n",
        "        return (cx, cy)\n",
        "    else:\n",
        "        return None  # Return None if there are no black pixels\n",
        "\n",
        "# Iterate over each black-and-white image, draw the centroid if found\n",
        "for filename in os.listdir(bounding_box_folder):\n",
        "    if filename.endswith(\".png\"):\n",
        "        image_path = os.path.join(bounding_box_folder, filename)\n",
        "        image = Image.open(image_path)\n",
        "\n",
        "        # Find the centroid\n",
        "        centroid = find_centroid(image)\n",
        "\n",
        "        if centroid:\n",
        "            # Draw the centroid on the image\n",
        "            draw = ImageDraw.Draw(image)\n",
        "            cx, cy = centroid\n",
        "            # Mark the centroid as a small red circle\n",
        "            draw.ellipse((cx-30, cy-30, cx+30, cy+30), fill=\"black\", outline=\"black\")\n",
        "\n",
        "        # Save the image with the centroid marked\n",
        "        save_path = os.path.join(centroid_folder, filename)\n",
        "        image.save(save_path)\n",
        "\n",
        "print(\"Centroids have been drawn and saved in /content/centroid_images/\")\n"
      ]
    },
    {
      "cell_type": "markdown",
      "metadata": {
        "id": "CdJuvv5kf8Z1"
      },
      "source": [
        "##Segmenting Images into four cells"
      ]
    },
    {
      "cell_type": "code",
      "execution_count": null,
      "metadata": {
        "colab": {
          "base_uri": "https://localhost:8080/"
        },
        "id": "0mIDfGoB0qot",
        "outputId": "87a8ed64-8193-4e1d-f569-7c5a7e09198c"
      },
      "outputs": [
        {
          "name": "stdout",
          "output_type": "stream",
          "text": [
            "Segmented boxes have been drawn and saved in /content/segmented_image/\n"
          ]
        }
      ],
      "source": [
        "from PIL import Image, ImageDraw\n",
        "import os\n",
        "\n",
        "# Folder paths\n",
        "source_folder = '/content/centroid_images'\n",
        "seg_folder = '/content/segmented_image'\n",
        "\n",
        "# Create folder to save images with bounding boxes\n",
        "os.makedirs(seg_folder, exist_ok=True)\n",
        "\n",
        "# Iterate over each black-and-white image and draw a bounding box\n",
        "for filename in os.listdir(source_folder):\n",
        "    if filename.endswith(\".png\"):\n",
        "        image_path = os.path.join(source_folder, filename)\n",
        "        image = Image.open(image_path)\n",
        "\n",
        "        # Find the bounding box\n",
        "        bbox = find_bounding_box(image)\n",
        "        centroid = find_centroid(image)\n",
        "        cx, cy = centroid\n",
        "        left, top, right, bottom = bbox\n",
        "\n",
        "        # Draw the bounding box on the original image\n",
        "        draw = ImageDraw.Draw(image)\n",
        "        # Top-left to centroid\n",
        "        draw.rectangle((left, top, cx, cy), outline=\"black\")\n",
        "        # Top-right to centroid\n",
        "        draw.rectangle((cx, top, right, cy), outline=\"black\")\n",
        "        # Bottom-left to centroid\n",
        "        draw.rectangle((left, cy, cx, bottom), outline=\"black\")\n",
        "        # Bottom-right to centroid\n",
        "        draw.rectangle((cx, cy, right, bottom), outline=\"black\")\n",
        "\n",
        "        # Save the image with the bounding box\n",
        "        save_path = os.path.join(seg_folder, filename)\n",
        "        image.save(save_path)\n",
        "\n",
        "print(\"Segmented boxes have been drawn and saved in /content/segmented_image/\")"
      ]
    },
    {
      "cell_type": "markdown",
      "metadata": {
        "id": "LHcjiIJRgAab"
      },
      "source": [
        "##Finding white to black tranistion in each of those cells"
      ]
    },
    {
      "cell_type": "code",
      "execution_count": null,
      "metadata": {
        "colab": {
          "base_uri": "https://localhost:8080/"
        },
        "id": "neQkO88k7coq",
        "outputId": "5c6b69f5-4cca-456e-a334-399ddd3d5e70"
      },
      "outputs": [
        {
          "name": "stdout",
          "output_type": "stream",
          "text": [
            "(20055, 21705, 27100, 30041)\n",
            "(19507, 21662, 29925, 33656)\n",
            "(18141, 19394, 25243, 27091)\n",
            "(18946, 21673, 31273, 35464)\n",
            "(21842, 24268, 33614, 38338)\n",
            "(18598, 19803, 28632, 30972)\n",
            "(18660, 20654, 28175, 31106)\n",
            "(19467, 19480, 30204, 30221)\n",
            "(17712, 19114, 27724, 30428)\n",
            "(17798, 20287, 27190, 31263)\n",
            "(18344, 20615, 21612, 24260)\n",
            "(22923, 24013, 30035, 31601)\n",
            "(22026, 23361, 30838, 33504)\n",
            "(17024, 17741, 26755, 27862)\n",
            "(20044, 20896, 26824, 28327)\n",
            "(19919, 24232, 32960, 39265)\n",
            "(20889, 22147, 28788, 30903)\n",
            "(16530, 17349, 26850, 28291)\n",
            "(20636, 21177, 23969, 24761)\n",
            "(23089, 24292, 25196, 26689)\n",
            "(18385, 19320, 26431, 27940)\n",
            "(18224, 19677, 27972, 30918)\n",
            "(21745, 23177, 30908, 33350)\n",
            "(15692, 15862, 23122, 23444)\n",
            "(17497, 19079, 27205, 29596)\n"
          ]
        }
      ],
      "source": [
        "from PIL import Image, ImageDraw\n",
        "import os\n",
        "\n",
        "\n",
        "def find_Transitions(image, width, height):\n",
        "    n = 0\n",
        "    # Iterate through each pixel\n",
        "    prev = image.getpixel((0, 0))\n",
        "    # Convert width and height to integers before using them in range\n",
        "    for x in range(int(width)):\n",
        "        for y in range(int(height)):\n",
        "            color = image.getpixel((x, y))\n",
        "            if color == 255 and prev == 0:  # Pixel is black\n",
        "                n += 1\n",
        "            prev = color\n",
        "    return n\n",
        "\n",
        "\n",
        "\n",
        "\n",
        "# Folder paths\n",
        "source_folder = '/content/segmented_image'\n",
        "\n",
        "\n",
        "# # Create folder to save images with bounding boxes\n",
        "# os.makedirs(seg_folder, exist_ok=True)\n",
        "\n",
        "# Iterate over each black-and-white image and draw a bounding box\n",
        "for filename in os.listdir(source_folder):\n",
        "    if filename.endswith(\".png\"):\n",
        "        image_path = os.path.join(source_folder, filename)\n",
        "        image = Image.open(image_path)\n",
        "\n",
        "        # Find the bounding box\n",
        "        bbox = find_bounding_box(image)\n",
        "        centroid = find_centroid(image)\n",
        "        cx, cy = centroid\n",
        "        left, top, right, bottom = bbox\n",
        "\n",
        "        #top-left\n",
        "        TL = find_Transitions(image, cx - left, cy - top)\n",
        "        #top right\n",
        "        TR = find_Transitions(image, right - cx, cy - top)\n",
        "        #bottom left\n",
        "        BL = find_Transitions(image, cx - left, bottom - cy)\n",
        "        #bottom right\n",
        "        BR = find_Transitions(image, right - cx, bottom - cy)\n",
        "\n",
        "        transitions = (TL, TR, BL, BR)\n",
        "        print(transitions)"
      ]
    },
    {
      "cell_type": "markdown",
      "metadata": {
        "id": "xlbkXHD9gIh2"
      },
      "source": [
        "##Function to calculate the centroid using coordinate of each cell"
      ]
    },
    {
      "cell_type": "code",
      "execution_count": null,
      "metadata": {
        "id": "qMAbkZfXG0W-"
      },
      "outputs": [],
      "source": [
        "# Function to calculate the centroid of black pixels\n",
        "def findCentroid(image, left, right, top, bottom):\n",
        "    cx, cy, n = 0, 0, 0\n",
        "\n",
        "    # Iterate through each pixel\n",
        "    for x in range(int(left), int(right)):\n",
        "        for y in range(int(top), int(bottom)):\n",
        "            color = image.getpixel((x, y))\n",
        "            if color == 0:  # Pixel is black\n",
        "                cx += x\n",
        "                cy += y\n",
        "                n += 1\n",
        "\n",
        "    # Calculate the centroid if there are black pixels\n",
        "    if n > 0:\n",
        "        cx /= n\n",
        "        cy /= n\n",
        "        return (cx, cy)\n",
        "    else:\n",
        "         return ((left + right) / 2, (top + bottom) / 2)"
      ]
    },
    {
      "cell_type": "markdown",
      "metadata": {
        "id": "48uhjLBdgSvB"
      },
      "source": [
        "##Function to find the transitions using coordinates of each cell"
      ]
    },
    {
      "cell_type": "code",
      "execution_count": null,
      "metadata": {
        "id": "HIRcpuseH25T"
      },
      "outputs": [],
      "source": [
        "def findTransitions(image, left, right, top, bottom):\n",
        "    n = 0\n",
        "\n",
        "    # Iterate through each pixel\n",
        "    prev = image.getpixel((int(left), int(top)))\n",
        "    # Convert width and height to integers before using them in range\n",
        "    for x in range(int(left), int(right)):\n",
        "        for y in range(int(top), int(bottom)):\n",
        "            color = image.getpixel((x, y))\n",
        "            if color == 255 and prev == 0:  # Pixel is black\n",
        "                n += 1\n",
        "            prev = color\n",
        "\n",
        "    return n"
      ]
    },
    {
      "cell_type": "markdown",
      "metadata": {
        "id": "k4ncUfCXgdMh"
      },
      "source": [
        "##Function to calculate aspect ratio of each cell"
      ]
    },
    {
      "cell_type": "code",
      "execution_count": null,
      "metadata": {
        "id": "_L4KaK__J7vh"
      },
      "outputs": [],
      "source": [
        "def find_ratio(left, right, top, bottom):\n",
        "  width = right - left\n",
        "  height = bottom - top\n",
        "  return (width/height)"
      ]
    },
    {
      "cell_type": "markdown",
      "metadata": {
        "id": "ZXwYZL8AgirY"
      },
      "source": [
        "##Function to draw outline on each cell"
      ]
    },
    {
      "cell_type": "code",
      "execution_count": null,
      "metadata": {
        "id": "GL3ygEDKsPW1"
      },
      "outputs": [],
      "source": [
        "def draw_cells(image, filename = \"coordinates_file.txt\"):\n",
        "    with open(filename, 'r') as f:\n",
        "        lines = f.readlines()\n",
        "\n",
        "    draw = ImageDraw.Draw(image)\n",
        "    i = 0\n",
        "    while i < len(lines):\n",
        "        if lines[i].startswith(\"Left\"):\n",
        "            # Extract coordinates\n",
        "            parts = lines[i].strip().split(', ')\n",
        "            coordinates = {}\n",
        "            for part in parts:\n",
        "                key, value = part.split(': ')\n",
        "                coordinates[key] = int(float(value))\n",
        "\n",
        "            left = coordinates['Left']\n",
        "            right = coordinates['Right']\n",
        "            top = coordinates['Top']\n",
        "            bottom = coordinates['Bottom']\n",
        "\n",
        "            # Draw the rectangle for this cell\n",
        "            draw.rectangle((left, top, right, bottom), outline=\"black\")\n",
        "        i += 1"
      ]
    },
    {
      "cell_type": "markdown",
      "metadata": {
        "id": "dRiugiX4gnHI"
      },
      "source": [
        "##Splitting Image into 64 segments and finding transition, coordinates, centroid and aspect ratio of each of the 64 cells\n",
        "All this is saved in drawn_cells folder."
      ]
    },
    {
      "cell_type": "code",
      "execution_count": null,
      "metadata": {
        "colab": {
          "base_uri": "https://localhost:8080/"
        },
        "id": "I-5Q63Q7Rrgb",
        "outputId": "4d049946-3cbc-4dd2-9624-525f01eca8af"
      },
      "outputs": [
        {
          "name": "stdout",
          "output_type": "stream",
          "text": [
            "Splitting, saving cell data, and drawing cells completed.\n"
          ]
        }
      ],
      "source": [
        "import os\n",
        "from PIL import Image, ImageDraw\n",
        "\n",
        "# Function to split the image into 64 cells and save data in text files\n",
        "def split_64(image, left, right, top, bottom, depth=0, f1=\"coords.txt\", f2=\"centroids.txt\", f3=\"ratios.txt\", f4=\"trans.txt\"):\n",
        "    cx, cy = findCentroid(image, left, right, top, bottom)\n",
        "\n",
        "    if depth < 3:  # Keep splitting until 64 cells\n",
        "        split_64(image, left, cx, top, cy, depth + 1, f1, f2, f3, f4)\n",
        "        split_64(image, cx, right, top, cy, depth + 1, f1, f2, f3, f4)\n",
        "        split_64(image, left, cx, cy, bottom, depth + 1, f1, f2, f3, f4)\n",
        "        split_64(image, cx, right, cy, bottom, depth + 1, f1, f2, f3, f4)\n",
        "    else:\n",
        "        t = findTransitions(image, left, right, top, bottom)\n",
        "        r = find_ratio(left, right, top, bottom)\n",
        "\n",
        "        # Save the data in different text files\n",
        "        with open(f1, 'a') as f_coords:\n",
        "            f_coords.write(f\"Left: {left}, Right: {right}, Top: {top}, Bottom: {bottom}\\n\")\n",
        "\n",
        "        with open(f4, 'a') as f_transitions:\n",
        "            f_transitions.write(f\"Transitions: {t}\\n\")\n",
        "\n",
        "        with open(f3, 'a') as f_ratios:\n",
        "            f_ratios.write(f\"Aspect Ratio: {r}\\n\")\n",
        "\n",
        "        with open(f2, 'a') as f_centroids:\n",
        "            f_centroids.write(f\"Centroid: ({cx}, {cy})\\n\")\n",
        "\n",
        "# Folder paths\n",
        "source_folder = '/content/bounding_box_images'\n",
        "output_folder = '/content/drawn_cells'\n",
        "\n",
        "os.makedirs(output_folder, exist_ok=True)\n",
        "\n",
        "# Process each image\n",
        "for filename in os.listdir(source_folder):\n",
        "    if filename.endswith(\".png\"):\n",
        "        image_path = os.path.join(source_folder, filename)\n",
        "        image = Image.open(image_path)\n",
        "\n",
        "        # Create a unique folder for each image within output_folder\n",
        "        image_folder = os.path.join(output_folder, filename.split('.')[0])\n",
        "        os.makedirs(image_folder, exist_ok=True)\n",
        "\n",
        "        # Define paths for the data files within the image folder\n",
        "        cell_coordinates = os.path.join(image_folder, \"cell_coordinates.txt\")\n",
        "        cell_centroid = os.path.join(image_folder, \"cell_centroid.txt\")\n",
        "        cell_aspectratio = os.path.join(image_folder, \"cell_aspectratio.txt\")\n",
        "        cell_transition = os.path.join(image_folder, \"cell_transitions.txt\")\n",
        "\n",
        "        # Split the image into 64 cells and save the data\n",
        "        split_64(image, 0, image.width, 0, image.height, depth=0,\n",
        "                 f1=cell_coordinates, f2=cell_centroid, f3=cell_aspectratio, f4=cell_transition)\n",
        "\n",
        "        # Load the data from the file and draw the cells on the image\n",
        "        draw_cells(image, filename=cell_coordinates)\n",
        "\n",
        "        # Save the image with drawn cells within the image folder\n",
        "        image_save_path = os.path.join(image_folder, filename)\n",
        "        image.save(image_save_path)\n",
        "\n",
        "print(\"Splitting, saving cell data, and drawing cells completed.\")\n"
      ]
    },
    {
      "cell_type": "markdown",
      "metadata": {
        "id": "_lkNj1S26Wg4"
      },
      "source": [
        "# Identification of Stable Cells"
      ]
    },
    {
      "cell_type": "code",
      "execution_count": null,
      "metadata": {
        "colab": {
          "background_save": true,
          "base_uri": "https://localhost:8080/"
        },
        "id": "QsoYtur16iAT",
        "outputId": "7b3d195e-ad6f-4c5f-f1e6-7e884a0cb1a8"
      },
      "outputs": [
        {
          "name": "stdout",
          "output_type": "stream",
          "text": [
            "Stable cell analysis completed.\n"
          ]
        }
      ],
      "source": [
        "import os\n",
        "from PIL import Image\n",
        "import numpy as np\n",
        "\n",
        "# Function to store transitions for all signatures\n",
        "def gather_transitions_for_signatures(source_folder, num_signatures):\n",
        "    # Store transitions data for each cell across all signatures\n",
        "    all_transitions = []\n",
        "\n",
        "    for i, filename in enumerate(sorted(os.listdir(source_folder))):\n",
        "        if i >= num_signatures:\n",
        "            break\n",
        "\n",
        "        if filename.endswith(\".png\"):\n",
        "            image_path = os.path.join(source_folder, filename)\n",
        "            image = Image.open(image_path)\n",
        "\n",
        "            # Collect transition counts for this image\n",
        "            transitions = []\n",
        "            collect_transitions(image, 0, image.width, 0, image.height, transitions)\n",
        "            all_transitions.append(transitions)\n",
        "\n",
        "    return all_transitions\n",
        "\n",
        "# Recursive function to collect transitions for 64 cells\n",
        "def collect_transitions(image, left, right, top, bottom, transitions, depth=0):\n",
        "    if depth < 3:  # Keep splitting until 64 cells\n",
        "        cx, cy = findCentroid(image, left, right, top, bottom)\n",
        "        collect_transitions(image, left, cx, top, cy, transitions, depth + 1)\n",
        "        collect_transitions(image, cx, right, top, cy, transitions, depth + 1)\n",
        "        collect_transitions(image, left, cx, cy, bottom, transitions, depth + 1)\n",
        "        collect_transitions(image, cx, right, cy, bottom, transitions, depth + 1)\n",
        "    else:\n",
        "        t = findTransitions(image, left, right, top, bottom)\n",
        "        transitions.append(t)\n",
        "\n",
        "# Function to identify stable cells based on variance across all signatures\n",
        "def identify_stable_cells(all_transitions, threshold=5):\n",
        "    num_cells = 64\n",
        "    stable_cells = [True] * num_cells\n",
        "\n",
        "    # Compare transitions for each cell across all signatures\n",
        "    for cell_index in range(num_cells):\n",
        "        # Gather transitions for this cell across all signatures\n",
        "        cell_transitions = [signature[cell_index] for signature in all_transitions]\n",
        "\n",
        "        # Check the range of transition values or use standard deviation\n",
        "        if max(cell_transitions) - min(cell_transitions) > threshold:\n",
        "            stable_cells[cell_index] = False\n",
        "\n",
        "    return stable_cells\n",
        "\n",
        "# Main function to compare and mark stable cells across signatures\n",
        "def compare_and_mark_stable_cells(source_folder, num_signatures=25):\n",
        "    # Gather transitions for all signatures\n",
        "    all_transitions = gather_transitions_for_signatures(source_folder, num_signatures)\n",
        "\n",
        "    # Identify stable cells\n",
        "    stable_cells = identify_stable_cells(all_transitions, threshold=5)\n",
        "\n",
        "    # Output results\n",
        "    with open('stable_cells.txt', 'w') as f:\n",
        "        for i, is_stable in enumerate(stable_cells):\n",
        "            f.write(f\"Cell {i+1}: {'Stable' if is_stable else 'Unstable'}\\n\")\n",
        "\n",
        "    print(\"Stable cell analysis completed.\")\n",
        "\n",
        "# Example Usage\n",
        "source_folder = '/content/bounding_box_images'\n",
        "compare_and_mark_stable_cells(source_folder, num_signatures=25)"
      ]
    },
    {
      "cell_type": "markdown",
      "metadata": {
        "id": "7PhumuWgg14v"
      },
      "source": [
        "##Calculating the Slant angle of the signature using vertical projection profile"
      ]
    },
    {
      "cell_type": "code",
      "execution_count": null,
      "metadata": {
        "id": "m3H6cEIDcZlh"
      },
      "outputs": [],
      "source": [
        "import numpy as np\n",
        "from PIL import Image, ImageOps\n",
        "import math\n",
        "\n",
        "# Function to perform vertical shear transformation\n",
        "def shear_image(image, angle):\n",
        "    angle_rad = math.radians(angle)\n",
        "    tan_angle = math.tan(angle_rad)\n",
        "    width, height = image.size\n",
        "\n",
        "    # Calculate new image size after shear\n",
        "    new_width = int(width + abs(tan_angle) * height)\n",
        "    new_image = ImageOps.expand(image, (new_width - width, 0, 0, 0), fill=\"white\")\n",
        "\n",
        "    # Apply shear transformation\n",
        "    return new_image.transform(new_image.size, Image.AFFINE, (1, tan_angle, -tan_angle * height / 2, 0, 1, 0), Image.BICUBIC)\n",
        "\n",
        "# Function to calculate vertical projection profile\n",
        "def vertical_projection_profile(image):\n",
        "    # Convert to numpy array and calculate column-wise sum\n",
        "    image_array = np.array(image)\n",
        "    projection_profile = np.sum(image_array == 0, axis=0)  # Summing black pixels column-wise\n",
        "    return projection_profile\n",
        "\n",
        "# Function to estimate slant angle using vertical projection profiles\n",
        "def estimate_slant_angle(image, shear_range=(-10, 10), shear_increment=1):\n",
        "    max_projection = 0\n",
        "    optimal_shear_angle = 0\n",
        "\n",
        "    for angle in range(shear_range[0], shear_range[1] + 1, shear_increment):\n",
        "        # Shear the image and compute vertical projection profile\n",
        "        sheared_image = shear_image(image, angle)\n",
        "        current_projection = np.sum(vertical_projection_profile(sheared_image))\n",
        "\n",
        "        # Update maximum projection and optimal shear angle\n",
        "        if current_projection > max_projection:\n",
        "            max_projection = current_projection\n",
        "            optimal_shear_angle = angle\n",
        "\n",
        "    return optimal_shear_angle"
      ]
    },
    {
      "cell_type": "markdown",
      "metadata": {
        "id": "Qz2w6-jfg_Zc"
      },
      "source": [
        "##Calculating the skew angle using horizontal projection profile"
      ]
    },
    {
      "cell_type": "code",
      "execution_count": null,
      "metadata": {
        "id": "Igg5Kp7qXZ9p"
      },
      "outputs": [],
      "source": [
        "import numpy as np\n",
        "from PIL import Image\n",
        "import math\n",
        "\n",
        "# Function to calculate horizontal projection profile\n",
        "def horizontal_projection_profile(image):\n",
        "    # Convert to numpy array and calculate row-wise sum\n",
        "    image_array = np.array(image)\n",
        "    projection_profile = np.sum(image_array == 0, axis=1)  # Summing black pixels row-wise\n",
        "    return projection_profile\n",
        "\n",
        "# Function to estimate skew angle\n",
        "def estimate_skew(image, initial_angle=0, rotation_increment=5, max_iterations=10):\n",
        "    # Step 2: Initial horizontal projection profile\n",
        "    max_projection = np.sum(horizontal_projection_profile(image))\n",
        "    optimal_angle = initial_angle\n",
        "\n",
        "    for i in range(max_iterations):\n",
        "        # Rotate by the specified increment\n",
        "        rotated_image = image.rotate(optimal_angle + rotation_increment, expand=True)\n",
        "\n",
        "        # Step 5: Calculate projection profile and sum of rotated image\n",
        "        current_projection = np.sum(horizontal_projection_profile(rotated_image))\n",
        "\n",
        "        # Step 6: If the current projection is greater than max, update the angle and max_projection\n",
        "        if current_projection > max_projection:\n",
        "            max_projection = current_projection\n",
        "            optimal_angle += rotation_increment\n",
        "        else:\n",
        "            # Step 7: If no improvement, break out\n",
        "            break\n",
        "\n",
        "    return optimal_angle"
      ]
    },
    {
      "cell_type": "markdown",
      "metadata": {
        "id": "4yUMPMx9hE4f"
      },
      "source": [
        "##Dumping angles to file"
      ]
    },
    {
      "cell_type": "code",
      "execution_count": null,
      "metadata": {
        "colab": {
          "base_uri": "https://localhost:8080/"
        },
        "id": "i-f1uvtZZ6rj",
        "outputId": "0def0672-a619-4602-b6b1-5119b83dffee"
      },
      "outputs": [
        {
          "name": "stdout",
          "output_type": "stream",
          "text": [
            "Skew angle correction completed.\n"
          ]
        }
      ],
      "source": [
        "# Folder paths\n",
        "source_folder = '/content/bounding_box_images'\n",
        "output_folder = '/content/corrected_slant_cells'\n",
        "os.makedirs(output_folder, exist_ok=True)\n",
        "\n",
        "# Process each image\n",
        "for filename in os.listdir(source_folder):\n",
        "    if filename.endswith(\".png\"):\n",
        "        image_path = os.path.join(source_folder, filename)\n",
        "        image = Image.open(image_path)\n",
        "\n",
        "\n",
        "        # Estimate skew and rotate image accordingly\n",
        "        skew_angle = estimate_skew(image)\n",
        "        slant_angle = estimate_slant_angle(image)\n",
        "\n",
        "        fname = filename.split('.')[0]\n",
        "        # Define the output file path\n",
        "        output_file_path = os.path.join(output_folder, f\"{fname}_angles.txt\")\n",
        "\n",
        "    # Write skew and slant angles to file\n",
        "    with open(output_file_path, 'w') as f:\n",
        "        f.write(f\"Skew Angle: {skew_angle} degrees\\n\")\n",
        "        f.write(f\"Slant Angle: {slant_angle} degrees\\n\")\n",
        "\n",
        "\n",
        "\n",
        "\n",
        "\n",
        "print(\"Skew angle correction completed.\")"
      ]
    },
    {
      "cell_type": "markdown",
      "metadata": {
        "id": "36Yi53B5lVtG"
      },
      "source": [
        "## Lab Tasks Summary\n",
        "\n",
        "### Feature Extraction from Signature Images\n",
        "1. **Unzipping Files**:\n",
        "   - Installed `unrar` and extracted images from a RAR file to a specified directory.\n",
        "\n",
        "2. **Converting Images to Black and White**:\n",
        "   - Converted each image to black and white and saved them in a new directory.\n",
        "\n",
        "### Drawing Bounding Boxes\n",
        "3. **Bounding Box Calculation**:\n",
        "   - Calculated the bounding box for each black-and-white image and drew the bounding box on the images.\n",
        "\n",
        "### Finding Centroids\n",
        "4. **Centroid Calculation**:\n",
        "   - Calculated the centroid of black pixels in each image and marked it with a small circle.\n",
        "\n",
        "### Segmenting Images into Four Cells\n",
        "5. **Image Segmentation**:\n",
        "   - Divided each image into four segments using the centroid and bounding box coordinates.\n",
        "\n",
        "### Finding White to Black Transitions\n",
        "6. **Transition Calculation**:\n",
        "   - Counted the transitions from white to black pixels in each of the four segments.\n",
        "\n",
        "### Calculating Centroids and Transitions for Each Cell\n",
        "7. **Cell-wise Calculations**:\n",
        "   - Calculated centroids and transitions for each of the 64 cells obtained by further dividing the four segments.\n",
        "\n",
        "### Calculating Aspect Ratios\n",
        "8. **Aspect Ratio Calculation**:\n",
        "   - Calculated the aspect ratio for each of the 64 cells.\n",
        "\n",
        "### Drawing Outlines on Cells\n",
        "9. **Cell Outlining**:\n",
        "   - Drew outlines around each of the 64 cells and saved the images.\n",
        "\n",
        "### Calculating Slant and Skew Angles\n",
        "10. **Slant Angle Calculation**:\n",
        "    - Estimated the slant angle of the signature using vertical projection profiles.\n",
        "\n",
        "11. **Skew Angle Calculation**:\n",
        "    - Estimated the skew angle using horizontal projection profiles and corrected the images accordingly.\n",
        "\n",
        "### Saving Results\n",
        "12. **Data Dumping**:\n",
        "    - Saved the calculated angles (skew and slant) to text files for each image.\n",
        "\n",
        "---\n",
        "\n",
        "These tasks collectively aimed at processing and analyzing signature images for feature extraction, segmentation, and geometric corrections.\n"
      ]
    }
  ],
  "metadata": {
    "colab": {
      "provenance": []
    },
    "kernelspec": {
      "display_name": "Python 3",
      "name": "python3"
    },
    "language_info": {
      "name": "python"
    }
  },
  "nbformat": 4,
  "nbformat_minor": 0
}
