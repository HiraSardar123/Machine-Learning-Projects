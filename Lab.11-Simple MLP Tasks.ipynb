{
  "cells": [
    {
      "cell_type": "markdown",
      "metadata": {
        "id": "9mK68EzqU8vz"
      },
      "source": [
        "#**Lab 11: Simple MLP**\n",
        "**Submitted By**: Hira Sardar\n"
      ]
    },
    {
      "cell_type": "markdown",
      "metadata": {
        "id": "3Utgwz_-5xv2"
      },
      "source": [
        "#**Task 1: Implement Logical Gates Using the Perceptron Algorithm**"
      ]
    },
    {
      "cell_type": "markdown",
      "metadata": {
        "id": "_7V8WOmg53ym"
      },
      "source": [
        "**Step 1: Define the Dataset**"
      ]
    },
    {
      "cell_type": "code",
      "execution_count": null,
      "metadata": {
        "id": "uvDSThGx51CO"
      },
      "outputs": [],
      "source": [
        "# Define datasets for each gate\n",
        "def get_gate_data(gate_type):\n",
        "    if gate_type == \"AND\":\n",
        "        X = np.array([[0, 0], [0, 1], [1, 0], [1, 1]])  # Inputs\n",
        "        y = np.array([0, 0, 0, 1])  # Outputs\n",
        "    elif gate_type == \"OR\":\n",
        "        X = np.array([[0, 0], [0, 1], [1, 0], [1, 1]])  # Inputs\n",
        "        y = np.array([0, 1, 1, 1])  # Outputs\n",
        "    elif gate_type == \"NOT\":\n",
        "        X = np.array([[0], [1]])  # Single input for NOT\n",
        "        y = np.array([1, 0])  # Outputs\n",
        "    else:\n",
        "        raise ValueError(\"Invalid gate type!\")\n",
        "    return X, y"
      ]
    },
    {
      "cell_type": "markdown",
      "metadata": {
        "id": "REpOMqUh6YJu"
      },
      "source": [
        "**Step 2: Design the simple Perceptron Model**"
      ]
    },
    {
      "cell_type": "code",
      "execution_count": null,
      "metadata": {
        "id": "LHnxBB3t6b87"
      },
      "outputs": [],
      "source": [
        "import numpy as np\n",
        "\n",
        "# Perceptron class\n",
        "class SimplePerceptron:\n",
        "    def __init__(self, input_size, learning_rate=0.01, epochs=50):\n",
        "        self.weights = np.random.randn(input_size)  # Initialize weights randomly\n",
        "        self.bias = np.random.randn()  # Initialize bias randomly\n",
        "        self.learning_rate = learning_rate\n",
        "        self.epochs = epochs\n",
        "\n",
        "    # Step activation function\n",
        "    def step_ftn(self, z):\n",
        "        return 1 if z > 0 else 0\n",
        "\n",
        "    # Forward pass to calculate output\n",
        "    def forward(self, x):\n",
        "        z = np.dot(self.weights, x) + self.bias\n",
        "        return self.step_ftn(z)\n",
        "\n",
        "    # Backward pass to update weights and bias\n",
        "    def backward(self, x, target, y_pred):\n",
        "        error = target - y_pred\n",
        "        # Update weights and bias using the learning rate and error\n",
        "        self.weights += self.learning_rate * error * x\n",
        "        self.bias += self.learning_rate * error\n",
        "\n",
        "    # Train function to iterate over the dataset and apply the forward & backward passes\n",
        "    def train(self, X, y, epochs=None):\n",
        "        if epochs is None:\n",
        "            epochs = self.epochs  # Default to self.epochs if not provided\n",
        "\n",
        "        for epoch in range(epochs):\n",
        "            error_count = 0  # Track misclassifications\n",
        "            for x, target in zip(X, y):\n",
        "                y_pred = self.forward(x)  # Forward pass to get prediction\n",
        "                error = target - y_pred  # Calculate error\n",
        "\n",
        "                if error != 0:\n",
        "                    self.backward(x, target, y_pred)  # Call the backward function to update weights and bias\n",
        "                    error_count += 1\n",
        "\n",
        "            # Print weights, bias, and errors after each epoch\n",
        "            print(f\"Epoch {epoch + 1}: Weights={self.weights}, Bias={self.bias}, Errors={error_count}\")\n",
        "\n",
        "            # Stop early if all inputs are classified correctly\n",
        "            if error_count == 0:\n",
        "                print(\"Training completed successfully!\")\n",
        "                break\n",
        "\n",
        "    def test(self, X, y):\n",
        "      correct_predictions = 0  # Initialize counter for correct predictions\n",
        "      total_predictions = len(y)  # Total number of samples\n",
        "\n",
        "      for inputs, target in zip(X, y):\n",
        "          output = self.forward(inputs)  # Get prediction\n",
        "          print(f\"Input: {inputs}, Target: {target}, Predicted Output: {output}\")\n",
        "\n",
        "          if output == target:\n",
        "              correct_predictions += 1  # Increment if prediction is correct\n",
        "\n",
        "      accuracy = (correct_predictions / total_predictions) * 100  # Calculate accuracy\n",
        "      print(f\"Accuracy: {accuracy:.2f}%\")\n",
        "      return accuracy\n"
      ]
    },
    {
      "cell_type": "markdown",
      "metadata": {
        "id": "DyPhTewJ_J4H"
      },
      "source": [
        "**Step 3 and 4: Train and testthe Perceptron for Each Gate**"
      ]
    },
    {
      "cell_type": "code",
      "execution_count": null,
      "metadata": {
        "colab": {
          "base_uri": "https://localhost:8080/"
        },
        "id": "vMHM62eV_Msx",
        "outputId": "77b2abee-a0bf-4357-e1a1-9f7683beb01e"
      },
      "outputs": [
        {
          "name": "stdout",
          "output_type": "stream",
          "text": [
            "\n",
            "Training perceptron for AND gate...\n",
            "Epoch 1: Weights=[-1.67030827  0.15309245], Bias=0.43788582999752534, Errors=3\n",
            "Epoch 2: Weights=[-1.66030827  0.15309245], Bias=0.42788582999752534, Errors=3\n",
            "Epoch 3: Weights=[-1.65030827  0.15309245], Bias=0.4178858299975253, Errors=3\n",
            "Epoch 4: Weights=[-1.64030827  0.15309245], Bias=0.4078858299975253, Errors=3\n",
            "Epoch 5: Weights=[-1.63030827  0.15309245], Bias=0.3978858299975253, Errors=3\n",
            "Epoch 6: Weights=[-1.62030827  0.15309245], Bias=0.3878858299975253, Errors=3\n",
            "Epoch 7: Weights=[-1.61030827  0.15309245], Bias=0.3778858299975253, Errors=3\n",
            "Epoch 8: Weights=[-1.60030827  0.15309245], Bias=0.3678858299975253, Errors=3\n",
            "Epoch 9: Weights=[-1.59030827  0.15309245], Bias=0.3578858299975253, Errors=3\n",
            "Epoch 10: Weights=[-1.58030827  0.15309245], Bias=0.34788582999752526, Errors=3\n",
            "Epoch 11: Weights=[-1.57030827  0.15309245], Bias=0.33788582999752526, Errors=3\n",
            "Epoch 12: Weights=[-1.56030827  0.15309245], Bias=0.32788582999752525, Errors=3\n",
            "Epoch 13: Weights=[-1.55030827  0.15309245], Bias=0.31788582999752524, Errors=3\n",
            "Epoch 14: Weights=[-1.54030827  0.15309245], Bias=0.30788582999752523, Errors=3\n",
            "Epoch 15: Weights=[-1.53030827  0.15309245], Bias=0.2978858299975252, Errors=3\n",
            "Epoch 16: Weights=[-1.52030827  0.15309245], Bias=0.2878858299975252, Errors=3\n",
            "Epoch 17: Weights=[-1.51030827  0.15309245], Bias=0.2778858299975252, Errors=3\n",
            "Epoch 18: Weights=[-1.50030827  0.15309245], Bias=0.2678858299975252, Errors=3\n",
            "Epoch 19: Weights=[-1.49030827  0.15309245], Bias=0.2578858299975252, Errors=3\n",
            "Epoch 20: Weights=[-1.48030827  0.15309245], Bias=0.24788582999752518, Errors=3\n",
            "Epoch 21: Weights=[-1.47030827  0.15309245], Bias=0.23788582999752517, Errors=3\n",
            "Epoch 22: Weights=[-1.46030827  0.15309245], Bias=0.22788582999752516, Errors=3\n",
            "Epoch 23: Weights=[-1.45030827  0.15309245], Bias=0.21788582999752515, Errors=3\n",
            "Epoch 24: Weights=[-1.44030827  0.15309245], Bias=0.20788582999752514, Errors=3\n",
            "Epoch 25: Weights=[-1.43030827  0.15309245], Bias=0.19788582999752513, Errors=3\n",
            "Epoch 26: Weights=[-1.42030827  0.15309245], Bias=0.18788582999752512, Errors=3\n",
            "Epoch 27: Weights=[-1.41030827  0.15309245], Bias=0.1778858299975251, Errors=3\n",
            "Epoch 28: Weights=[-1.40030827  0.15309245], Bias=0.1678858299975251, Errors=3\n",
            "Epoch 29: Weights=[-1.39030827  0.15309245], Bias=0.1578858299975251, Errors=3\n",
            "Epoch 30: Weights=[-1.38030827  0.15309245], Bias=0.1478858299975251, Errors=3\n",
            "Epoch 31: Weights=[-1.37030827  0.15309245], Bias=0.13788582999752508, Errors=3\n",
            "Epoch 32: Weights=[-1.36030827  0.15309245], Bias=0.12788582999752507, Errors=3\n",
            "Epoch 33: Weights=[-1.35030827  0.15309245], Bias=0.11788582999752507, Errors=3\n",
            "Epoch 34: Weights=[-1.34030827  0.15309245], Bias=0.10788582999752508, Errors=3\n",
            "Epoch 35: Weights=[-1.33030827  0.15309245], Bias=0.09788582999752508, Errors=3\n",
            "Epoch 36: Weights=[-1.32030827  0.15309245], Bias=0.08788582999752509, Errors=3\n",
            "Epoch 37: Weights=[-1.31030827  0.15309245], Bias=0.0778858299975251, Errors=3\n",
            "Epoch 38: Weights=[-1.30030827  0.15309245], Bias=0.0678858299975251, Errors=3\n",
            "Epoch 39: Weights=[-1.29030827  0.15309245], Bias=0.0578858299975251, Errors=3\n",
            "Epoch 40: Weights=[-1.28030827  0.15309245], Bias=0.047885829997525095, Errors=3\n",
            "Epoch 41: Weights=[-1.27030827  0.15309245], Bias=0.03788582999752509, Errors=3\n",
            "Epoch 42: Weights=[-1.26030827  0.15309245], Bias=0.02788582999752509, Errors=3\n",
            "Epoch 43: Weights=[-1.25030827  0.15309245], Bias=0.01788582999752509, Errors=3\n",
            "Epoch 44: Weights=[-1.24030827  0.15309245], Bias=0.007885829997525089, Errors=3\n",
            "Epoch 45: Weights=[-1.23030827  0.15309245], Bias=-0.002114170002474911, Errors=3\n",
            "Epoch 46: Weights=[-1.22030827  0.15309245], Bias=-0.002114170002474911, Errors=2\n",
            "Epoch 47: Weights=[-1.21030827  0.15309245], Bias=-0.002114170002474911, Errors=2\n",
            "Epoch 48: Weights=[-1.20030827  0.15309245], Bias=-0.002114170002474911, Errors=2\n",
            "Epoch 49: Weights=[-1.19030827  0.15309245], Bias=-0.002114170002474911, Errors=2\n",
            "Epoch 50: Weights=[-1.18030827  0.15309245], Bias=-0.002114170002474911, Errors=2\n",
            "Epoch 51: Weights=[-1.17030827  0.15309245], Bias=-0.002114170002474911, Errors=2\n",
            "Epoch 52: Weights=[-1.16030827  0.15309245], Bias=-0.002114170002474911, Errors=2\n",
            "Epoch 53: Weights=[-1.15030827  0.15309245], Bias=-0.002114170002474911, Errors=2\n",
            "Epoch 54: Weights=[-1.14030827  0.15309245], Bias=-0.002114170002474911, Errors=2\n",
            "Epoch 55: Weights=[-1.13030827  0.15309245], Bias=-0.002114170002474911, Errors=2\n",
            "Epoch 56: Weights=[-1.12030827  0.15309245], Bias=-0.002114170002474911, Errors=2\n",
            "Epoch 57: Weights=[-1.11030827  0.15309245], Bias=-0.002114170002474911, Errors=2\n",
            "Epoch 58: Weights=[-1.10030827  0.15309245], Bias=-0.002114170002474911, Errors=2\n",
            "Epoch 59: Weights=[-1.09030827  0.15309245], Bias=-0.002114170002474911, Errors=2\n",
            "Epoch 60: Weights=[-1.08030827  0.15309245], Bias=-0.002114170002474911, Errors=2\n",
            "Epoch 61: Weights=[-1.07030827  0.15309245], Bias=-0.002114170002474911, Errors=2\n",
            "Epoch 62: Weights=[-1.06030827  0.15309245], Bias=-0.002114170002474911, Errors=2\n",
            "Epoch 63: Weights=[-1.05030827  0.15309245], Bias=-0.002114170002474911, Errors=2\n",
            "Epoch 64: Weights=[-1.04030827  0.15309245], Bias=-0.002114170002474911, Errors=2\n",
            "Epoch 65: Weights=[-1.03030827  0.15309245], Bias=-0.002114170002474911, Errors=2\n",
            "Epoch 66: Weights=[-1.02030827  0.15309245], Bias=-0.002114170002474911, Errors=2\n",
            "Epoch 67: Weights=[-1.01030827  0.15309245], Bias=-0.002114170002474911, Errors=2\n",
            "Epoch 68: Weights=[-1.00030827  0.15309245], Bias=-0.002114170002474911, Errors=2\n",
            "Epoch 69: Weights=[-0.99030827  0.15309245], Bias=-0.002114170002474911, Errors=2\n",
            "Epoch 70: Weights=[-0.98030827  0.15309245], Bias=-0.002114170002474911, Errors=2\n",
            "Epoch 71: Weights=[-0.97030827  0.15309245], Bias=-0.002114170002474911, Errors=2\n",
            "Epoch 72: Weights=[-0.96030827  0.15309245], Bias=-0.002114170002474911, Errors=2\n",
            "Epoch 73: Weights=[-0.95030827  0.15309245], Bias=-0.002114170002474911, Errors=2\n",
            "Epoch 74: Weights=[-0.94030827  0.15309245], Bias=-0.002114170002474911, Errors=2\n",
            "Epoch 75: Weights=[-0.93030827  0.15309245], Bias=-0.002114170002474911, Errors=2\n",
            "Epoch 76: Weights=[-0.92030827  0.15309245], Bias=-0.002114170002474911, Errors=2\n",
            "Epoch 77: Weights=[-0.91030827  0.15309245], Bias=-0.002114170002474911, Errors=2\n",
            "Epoch 78: Weights=[-0.90030827  0.15309245], Bias=-0.002114170002474911, Errors=2\n",
            "Epoch 79: Weights=[-0.89030827  0.15309245], Bias=-0.002114170002474911, Errors=2\n",
            "Epoch 80: Weights=[-0.88030827  0.15309245], Bias=-0.002114170002474911, Errors=2\n",
            "Epoch 81: Weights=[-0.87030827  0.15309245], Bias=-0.002114170002474911, Errors=2\n",
            "Epoch 82: Weights=[-0.86030827  0.15309245], Bias=-0.002114170002474911, Errors=2\n",
            "Epoch 83: Weights=[-0.85030827  0.15309245], Bias=-0.002114170002474911, Errors=2\n",
            "Epoch 84: Weights=[-0.84030827  0.15309245], Bias=-0.002114170002474911, Errors=2\n",
            "Epoch 85: Weights=[-0.83030827  0.15309245], Bias=-0.002114170002474911, Errors=2\n",
            "Epoch 86: Weights=[-0.82030827  0.15309245], Bias=-0.002114170002474911, Errors=2\n",
            "Epoch 87: Weights=[-0.81030827  0.15309245], Bias=-0.002114170002474911, Errors=2\n",
            "Epoch 88: Weights=[-0.80030827  0.15309245], Bias=-0.002114170002474911, Errors=2\n",
            "Epoch 89: Weights=[-0.79030827  0.15309245], Bias=-0.002114170002474911, Errors=2\n",
            "Epoch 90: Weights=[-0.78030827  0.15309245], Bias=-0.002114170002474911, Errors=2\n",
            "Epoch 91: Weights=[-0.77030827  0.15309245], Bias=-0.002114170002474911, Errors=2\n",
            "Epoch 92: Weights=[-0.76030827  0.15309245], Bias=-0.002114170002474911, Errors=2\n",
            "Epoch 93: Weights=[-0.75030827  0.15309245], Bias=-0.002114170002474911, Errors=2\n",
            "Epoch 94: Weights=[-0.74030827  0.15309245], Bias=-0.002114170002474911, Errors=2\n",
            "Epoch 95: Weights=[-0.73030827  0.15309245], Bias=-0.002114170002474911, Errors=2\n",
            "Epoch 96: Weights=[-0.72030827  0.15309245], Bias=-0.002114170002474911, Errors=2\n",
            "Epoch 97: Weights=[-0.71030827  0.15309245], Bias=-0.002114170002474911, Errors=2\n",
            "Epoch 98: Weights=[-0.70030827  0.15309245], Bias=-0.002114170002474911, Errors=2\n",
            "Epoch 99: Weights=[-0.69030827  0.15309245], Bias=-0.002114170002474911, Errors=2\n",
            "Epoch 100: Weights=[-0.68030827  0.15309245], Bias=-0.002114170002474911, Errors=2\n",
            "Epoch 101: Weights=[-0.67030827  0.15309245], Bias=-0.002114170002474911, Errors=2\n",
            "Epoch 102: Weights=[-0.66030827  0.15309245], Bias=-0.002114170002474911, Errors=2\n",
            "Epoch 103: Weights=[-0.65030827  0.15309245], Bias=-0.002114170002474911, Errors=2\n",
            "Epoch 104: Weights=[-0.64030827  0.15309245], Bias=-0.002114170002474911, Errors=2\n",
            "Epoch 105: Weights=[-0.63030827  0.15309245], Bias=-0.002114170002474911, Errors=2\n",
            "Epoch 106: Weights=[-0.62030827  0.15309245], Bias=-0.002114170002474911, Errors=2\n",
            "Epoch 107: Weights=[-0.61030827  0.15309245], Bias=-0.002114170002474911, Errors=2\n",
            "Epoch 108: Weights=[-0.60030827  0.15309245], Bias=-0.002114170002474911, Errors=2\n",
            "Epoch 109: Weights=[-0.59030827  0.15309245], Bias=-0.002114170002474911, Errors=2\n",
            "Epoch 110: Weights=[-0.58030827  0.15309245], Bias=-0.002114170002474911, Errors=2\n",
            "Epoch 111: Weights=[-0.57030827  0.15309245], Bias=-0.002114170002474911, Errors=2\n",
            "Epoch 112: Weights=[-0.56030827  0.15309245], Bias=-0.002114170002474911, Errors=2\n",
            "Epoch 113: Weights=[-0.55030827  0.15309245], Bias=-0.002114170002474911, Errors=2\n",
            "Epoch 114: Weights=[-0.54030827  0.15309245], Bias=-0.002114170002474911, Errors=2\n",
            "Epoch 115: Weights=[-0.53030827  0.15309245], Bias=-0.002114170002474911, Errors=2\n",
            "Epoch 116: Weights=[-0.52030827  0.15309245], Bias=-0.002114170002474911, Errors=2\n",
            "Epoch 117: Weights=[-0.51030827  0.15309245], Bias=-0.002114170002474911, Errors=2\n",
            "Epoch 118: Weights=[-0.50030827  0.15309245], Bias=-0.002114170002474911, Errors=2\n",
            "Epoch 119: Weights=[-0.49030827  0.15309245], Bias=-0.002114170002474911, Errors=2\n",
            "Epoch 120: Weights=[-0.48030827  0.15309245], Bias=-0.002114170002474911, Errors=2\n",
            "Epoch 121: Weights=[-0.47030827  0.15309245], Bias=-0.002114170002474911, Errors=2\n",
            "Epoch 122: Weights=[-0.46030827  0.15309245], Bias=-0.002114170002474911, Errors=2\n",
            "Epoch 123: Weights=[-0.45030827  0.15309245], Bias=-0.002114170002474911, Errors=2\n",
            "Epoch 124: Weights=[-0.44030827  0.15309245], Bias=-0.002114170002474911, Errors=2\n",
            "Epoch 125: Weights=[-0.43030827  0.15309245], Bias=-0.002114170002474911, Errors=2\n",
            "Epoch 126: Weights=[-0.42030827  0.15309245], Bias=-0.002114170002474911, Errors=2\n",
            "Epoch 127: Weights=[-0.41030827  0.15309245], Bias=-0.002114170002474911, Errors=2\n",
            "Epoch 128: Weights=[-0.40030827  0.15309245], Bias=-0.002114170002474911, Errors=2\n",
            "Epoch 129: Weights=[-0.39030827  0.15309245], Bias=-0.002114170002474911, Errors=2\n",
            "Epoch 130: Weights=[-0.38030827  0.15309245], Bias=-0.002114170002474911, Errors=2\n",
            "Epoch 131: Weights=[-0.37030827  0.15309245], Bias=-0.002114170002474911, Errors=2\n",
            "Epoch 132: Weights=[-0.36030827  0.15309245], Bias=-0.002114170002474911, Errors=2\n",
            "Epoch 133: Weights=[-0.35030827  0.15309245], Bias=-0.002114170002474911, Errors=2\n",
            "Epoch 134: Weights=[-0.34030827  0.15309245], Bias=-0.002114170002474911, Errors=2\n",
            "Epoch 135: Weights=[-0.33030827  0.15309245], Bias=-0.002114170002474911, Errors=2\n",
            "Epoch 136: Weights=[-0.32030827  0.15309245], Bias=-0.002114170002474911, Errors=2\n",
            "Epoch 137: Weights=[-0.31030827  0.15309245], Bias=-0.002114170002474911, Errors=2\n",
            "Epoch 138: Weights=[-0.30030827  0.15309245], Bias=-0.002114170002474911, Errors=2\n",
            "Epoch 139: Weights=[-0.29030827  0.15309245], Bias=-0.002114170002474911, Errors=2\n",
            "Epoch 140: Weights=[-0.28030827  0.15309245], Bias=-0.002114170002474911, Errors=2\n",
            "Epoch 141: Weights=[-0.27030827  0.15309245], Bias=-0.002114170002474911, Errors=2\n",
            "Epoch 142: Weights=[-0.26030827  0.15309245], Bias=-0.002114170002474911, Errors=2\n",
            "Epoch 143: Weights=[-0.25030827  0.15309245], Bias=-0.002114170002474911, Errors=2\n",
            "Epoch 144: Weights=[-0.24030827  0.15309245], Bias=-0.002114170002474911, Errors=2\n",
            "Epoch 145: Weights=[-0.23030827  0.15309245], Bias=-0.002114170002474911, Errors=2\n",
            "Epoch 146: Weights=[-0.22030827  0.15309245], Bias=-0.002114170002474911, Errors=2\n",
            "Epoch 147: Weights=[-0.21030827  0.15309245], Bias=-0.002114170002474911, Errors=2\n",
            "Epoch 148: Weights=[-0.20030827  0.15309245], Bias=-0.002114170002474911, Errors=2\n",
            "Epoch 149: Weights=[-0.19030827  0.15309245], Bias=-0.002114170002474911, Errors=2\n",
            "Epoch 150: Weights=[-0.18030827  0.15309245], Bias=-0.002114170002474911, Errors=2\n",
            "Epoch 151: Weights=[-0.17030827  0.15309245], Bias=-0.002114170002474911, Errors=2\n",
            "Epoch 152: Weights=[-0.16030827  0.15309245], Bias=-0.002114170002474911, Errors=2\n",
            "Epoch 153: Weights=[-0.15030827  0.15309245], Bias=-0.002114170002474911, Errors=2\n",
            "Epoch 154: Weights=[-0.14030827  0.15309245], Bias=-0.002114170002474911, Errors=2\n",
            "Epoch 155: Weights=[-0.13030827  0.15309245], Bias=-0.002114170002474911, Errors=2\n",
            "Epoch 156: Weights=[-0.13030827  0.14309245], Bias=-0.012114170002474911, Errors=1\n",
            "Epoch 157: Weights=[-0.12030827  0.14309245], Bias=-0.012114170002474911, Errors=2\n",
            "Epoch 158: Weights=[-0.11030827  0.14309245], Bias=-0.012114170002474911, Errors=2\n",
            "Epoch 159: Weights=[-0.11030827  0.13309245], Bias=-0.02211417000247491, Errors=1\n",
            "Epoch 160: Weights=[-0.10030827  0.13309245], Bias=-0.02211417000247491, Errors=2\n",
            "Epoch 161: Weights=[-0.09030827  0.13309245], Bias=-0.02211417000247491, Errors=2\n",
            "Epoch 162: Weights=[-0.09030827  0.12309245], Bias=-0.032114170002474914, Errors=1\n",
            "Epoch 163: Weights=[-0.08030827  0.12309245], Bias=-0.032114170002474914, Errors=2\n",
            "Epoch 164: Weights=[-0.07030827  0.12309245], Bias=-0.032114170002474914, Errors=2\n",
            "Epoch 165: Weights=[-0.07030827  0.11309245], Bias=-0.042114170002474915, Errors=1\n",
            "Epoch 166: Weights=[-0.06030827  0.11309245], Bias=-0.042114170002474915, Errors=2\n",
            "Epoch 167: Weights=[-0.05030827  0.11309245], Bias=-0.042114170002474915, Errors=2\n",
            "Epoch 168: Weights=[-0.05030827  0.10309245], Bias=-0.05211417000247492, Errors=1\n",
            "Epoch 169: Weights=[-0.04030827  0.10309245], Bias=-0.05211417000247492, Errors=2\n",
            "Epoch 170: Weights=[-0.03030827  0.10309245], Bias=-0.05211417000247492, Errors=2\n",
            "Epoch 171: Weights=[-0.03030827  0.09309245], Bias=-0.06211417000247492, Errors=1\n",
            "Epoch 172: Weights=[-0.02030827  0.09309245], Bias=-0.06211417000247491, Errors=2\n",
            "Epoch 173: Weights=[-0.01030827  0.09309245], Bias=-0.06211417000247491, Errors=2\n",
            "Epoch 174: Weights=[-0.01030827  0.08309245], Bias=-0.07211417000247491, Errors=1\n",
            "Epoch 175: Weights=[-0.00030827  0.08309245], Bias=-0.07211417000247491, Errors=2\n",
            "Epoch 176: Weights=[0.00969173 0.08309245], Bias=-0.07211417000247491, Errors=2\n",
            "Epoch 177: Weights=[0.00969173 0.07309245], Bias=-0.08211417000247491, Errors=1\n",
            "Epoch 178: Weights=[0.00969173 0.07309245], Bias=-0.08211417000247491, Errors=0\n",
            "Training completed successfully!\n",
            "\n",
            "Testing AND gate:\n",
            "Input: [0 0], Target: 0, Predicted Output: 0\n",
            "Input: [0 1], Target: 0, Predicted Output: 0\n",
            "Input: [1 0], Target: 0, Predicted Output: 0\n",
            "Input: [1 1], Target: 1, Predicted Output: 1\n",
            "Accuracy: 100.00%\n",
            "Accuracy for AND gate: 100.00%\n",
            "\n",
            "Training perceptron for OR gate...\n",
            "Epoch 1: Weights=[-0.68650608  0.86473046], Bias=-0.5244419841406466, Errors=2\n",
            "Epoch 2: Weights=[-0.66650608  0.87473046], Bias=-0.5044419841406466, Errors=2\n",
            "Epoch 3: Weights=[-0.64650608  0.88473046], Bias=-0.48444198414064654, Errors=2\n",
            "Epoch 4: Weights=[-0.62650608  0.89473046], Bias=-0.4644419841406465, Errors=2\n",
            "Epoch 5: Weights=[-0.60650608  0.90473046], Bias=-0.4444419841406465, Errors=2\n",
            "Epoch 6: Weights=[-0.58650608  0.91473046], Bias=-0.4244419841406465, Errors=2\n",
            "Epoch 7: Weights=[-0.56650608  0.92473046], Bias=-0.40444198414064647, Errors=2\n",
            "Epoch 8: Weights=[-0.54650608  0.93473046], Bias=-0.38444198414064645, Errors=2\n",
            "Epoch 9: Weights=[-0.53650608  0.93473046], Bias=-0.37444198414064644, Errors=1\n",
            "Epoch 10: Weights=[-0.52650608  0.93473046], Bias=-0.36444198414064644, Errors=1\n",
            "Epoch 11: Weights=[-0.51650608  0.93473046], Bias=-0.3544419841406464, Errors=1\n",
            "Epoch 12: Weights=[-0.50650608  0.93473046], Bias=-0.3444419841406464, Errors=1\n",
            "Epoch 13: Weights=[-0.49650608  0.93473046], Bias=-0.3344419841406464, Errors=1\n",
            "Epoch 14: Weights=[-0.48650608  0.93473046], Bias=-0.3244419841406464, Errors=1\n",
            "Epoch 15: Weights=[-0.47650608  0.93473046], Bias=-0.3144419841406464, Errors=1\n",
            "Epoch 16: Weights=[-0.46650608  0.93473046], Bias=-0.3044419841406464, Errors=1\n",
            "Epoch 17: Weights=[-0.45650608  0.93473046], Bias=-0.2944419841406464, Errors=1\n",
            "Epoch 18: Weights=[-0.44650608  0.93473046], Bias=-0.28444198414064636, Errors=1\n",
            "Epoch 19: Weights=[-0.43650608  0.93473046], Bias=-0.27444198414064636, Errors=1\n",
            "Epoch 20: Weights=[-0.42650608  0.93473046], Bias=-0.26444198414064635, Errors=1\n",
            "Epoch 21: Weights=[-0.41650608  0.93473046], Bias=-0.25444198414064634, Errors=1\n",
            "Epoch 22: Weights=[-0.40650608  0.93473046], Bias=-0.24444198414064633, Errors=1\n",
            "Epoch 23: Weights=[-0.39650608  0.93473046], Bias=-0.23444198414064632, Errors=1\n",
            "Epoch 24: Weights=[-0.38650608  0.93473046], Bias=-0.2244419841406463, Errors=1\n",
            "Epoch 25: Weights=[-0.37650608  0.93473046], Bias=-0.2144419841406463, Errors=1\n",
            "Epoch 26: Weights=[-0.36650608  0.93473046], Bias=-0.2044419841406463, Errors=1\n",
            "Epoch 27: Weights=[-0.35650608  0.93473046], Bias=-0.19444198414064628, Errors=1\n",
            "Epoch 28: Weights=[-0.34650608  0.93473046], Bias=-0.18444198414064628, Errors=1\n",
            "Epoch 29: Weights=[-0.33650608  0.93473046], Bias=-0.17444198414064627, Errors=1\n",
            "Epoch 30: Weights=[-0.32650608  0.93473046], Bias=-0.16444198414064626, Errors=1\n",
            "Epoch 31: Weights=[-0.31650608  0.93473046], Bias=-0.15444198414064625, Errors=1\n",
            "Epoch 32: Weights=[-0.30650608  0.93473046], Bias=-0.14444198414064624, Errors=1\n",
            "Epoch 33: Weights=[-0.29650608  0.93473046], Bias=-0.13444198414064623, Errors=1\n",
            "Epoch 34: Weights=[-0.28650608  0.93473046], Bias=-0.12444198414064624, Errors=1\n",
            "Epoch 35: Weights=[-0.27650608  0.93473046], Bias=-0.11444198414064624, Errors=1\n",
            "Epoch 36: Weights=[-0.26650608  0.93473046], Bias=-0.10444198414064625, Errors=1\n",
            "Epoch 37: Weights=[-0.25650608  0.93473046], Bias=-0.09444198414064625, Errors=1\n",
            "Epoch 38: Weights=[-0.24650608  0.93473046], Bias=-0.08444198414064626, Errors=1\n",
            "Epoch 39: Weights=[-0.23650608  0.93473046], Bias=-0.07444198414064626, Errors=1\n",
            "Epoch 40: Weights=[-0.22650608  0.93473046], Bias=-0.06444198414064627, Errors=1\n",
            "Epoch 41: Weights=[-0.21650608  0.93473046], Bias=-0.054441984140646264, Errors=1\n",
            "Epoch 42: Weights=[-0.20650608  0.93473046], Bias=-0.04444198414064626, Errors=1\n",
            "Epoch 43: Weights=[-0.19650608  0.93473046], Bias=-0.03444198414064626, Errors=1\n",
            "Epoch 44: Weights=[-0.18650608  0.93473046], Bias=-0.02444198414064626, Errors=1\n",
            "Epoch 45: Weights=[-0.17650608  0.93473046], Bias=-0.014441984140646258, Errors=1\n",
            "Epoch 46: Weights=[-0.16650608  0.93473046], Bias=-0.004441984140646258, Errors=1\n",
            "Epoch 47: Weights=[-0.15650608  0.93473046], Bias=0.005558015859353742, Errors=1\n",
            "Epoch 48: Weights=[-0.14650608  0.93473046], Bias=0.005558015859353742, Errors=2\n",
            "Epoch 49: Weights=[-0.13650608  0.93473046], Bias=0.005558015859353742, Errors=2\n",
            "Epoch 50: Weights=[-0.12650608  0.93473046], Bias=0.005558015859353742, Errors=2\n",
            "Epoch 51: Weights=[-0.11650608  0.93473046], Bias=0.005558015859353742, Errors=2\n",
            "Epoch 52: Weights=[-0.10650608  0.93473046], Bias=0.005558015859353742, Errors=2\n",
            "Epoch 53: Weights=[-0.09650608  0.93473046], Bias=0.005558015859353742, Errors=2\n",
            "Epoch 54: Weights=[-0.08650608  0.93473046], Bias=0.005558015859353742, Errors=2\n",
            "Epoch 55: Weights=[-0.07650608  0.93473046], Bias=0.005558015859353742, Errors=2\n",
            "Epoch 56: Weights=[-0.06650608  0.93473046], Bias=0.005558015859353742, Errors=2\n",
            "Epoch 57: Weights=[-0.05650608  0.93473046], Bias=0.005558015859353742, Errors=2\n",
            "Epoch 58: Weights=[-0.04650608  0.93473046], Bias=0.005558015859353742, Errors=2\n",
            "Epoch 59: Weights=[-0.03650608  0.93473046], Bias=0.005558015859353742, Errors=2\n",
            "Epoch 60: Weights=[-0.02650608  0.93473046], Bias=0.005558015859353742, Errors=2\n",
            "Epoch 61: Weights=[-0.01650608  0.93473046], Bias=0.005558015859353742, Errors=2\n",
            "Epoch 62: Weights=[-0.00650608  0.93473046], Bias=0.005558015859353742, Errors=2\n",
            "Epoch 63: Weights=[0.00349392 0.93473046], Bias=0.005558015859353742, Errors=2\n",
            "Epoch 64: Weights=[0.01349392 0.93473046], Bias=0.005558015859353742, Errors=2\n",
            "Epoch 65: Weights=[0.01349392 0.93473046], Bias=-0.004441984140646258, Errors=1\n",
            "Epoch 66: Weights=[0.01349392 0.93473046], Bias=-0.004441984140646258, Errors=0\n",
            "Training completed successfully!\n",
            "\n",
            "Testing OR gate:\n",
            "Input: [0 0], Target: 0, Predicted Output: 0\n",
            "Input: [0 1], Target: 1, Predicted Output: 1\n",
            "Input: [1 0], Target: 1, Predicted Output: 1\n",
            "Input: [1 1], Target: 1, Predicted Output: 1\n",
            "Accuracy: 100.00%\n",
            "Accuracy for OR gate: 100.00%\n",
            "\n",
            "Training perceptron for NOT gate...\n",
            "Epoch 1: Weights=[-0.75921134], Bias=-0.7257677468184377, Errors=1\n",
            "Epoch 2: Weights=[-0.75921134], Bias=-0.7157677468184377, Errors=1\n",
            "Epoch 3: Weights=[-0.75921134], Bias=-0.7057677468184377, Errors=1\n",
            "Epoch 4: Weights=[-0.75921134], Bias=-0.6957677468184377, Errors=1\n",
            "Epoch 5: Weights=[-0.75921134], Bias=-0.6857677468184377, Errors=1\n",
            "Epoch 6: Weights=[-0.75921134], Bias=-0.6757677468184377, Errors=1\n",
            "Epoch 7: Weights=[-0.75921134], Bias=-0.6657677468184376, Errors=1\n",
            "Epoch 8: Weights=[-0.75921134], Bias=-0.6557677468184376, Errors=1\n",
            "Epoch 9: Weights=[-0.75921134], Bias=-0.6457677468184376, Errors=1\n",
            "Epoch 10: Weights=[-0.75921134], Bias=-0.6357677468184376, Errors=1\n",
            "Epoch 11: Weights=[-0.75921134], Bias=-0.6257677468184376, Errors=1\n",
            "Epoch 12: Weights=[-0.75921134], Bias=-0.6157677468184376, Errors=1\n",
            "Epoch 13: Weights=[-0.75921134], Bias=-0.6057677468184376, Errors=1\n",
            "Epoch 14: Weights=[-0.75921134], Bias=-0.5957677468184376, Errors=1\n",
            "Epoch 15: Weights=[-0.75921134], Bias=-0.5857677468184376, Errors=1\n",
            "Epoch 16: Weights=[-0.75921134], Bias=-0.5757677468184376, Errors=1\n",
            "Epoch 17: Weights=[-0.75921134], Bias=-0.5657677468184376, Errors=1\n",
            "Epoch 18: Weights=[-0.75921134], Bias=-0.5557677468184375, Errors=1\n",
            "Epoch 19: Weights=[-0.75921134], Bias=-0.5457677468184375, Errors=1\n",
            "Epoch 20: Weights=[-0.75921134], Bias=-0.5357677468184375, Errors=1\n",
            "Epoch 21: Weights=[-0.75921134], Bias=-0.5257677468184375, Errors=1\n",
            "Epoch 22: Weights=[-0.75921134], Bias=-0.5157677468184375, Errors=1\n",
            "Epoch 23: Weights=[-0.75921134], Bias=-0.5057677468184375, Errors=1\n",
            "Epoch 24: Weights=[-0.75921134], Bias=-0.4957677468184375, Errors=1\n",
            "Epoch 25: Weights=[-0.75921134], Bias=-0.4857677468184375, Errors=1\n",
            "Epoch 26: Weights=[-0.75921134], Bias=-0.4757677468184375, Errors=1\n",
            "Epoch 27: Weights=[-0.75921134], Bias=-0.46576774681843747, Errors=1\n",
            "Epoch 28: Weights=[-0.75921134], Bias=-0.45576774681843746, Errors=1\n",
            "Epoch 29: Weights=[-0.75921134], Bias=-0.44576774681843745, Errors=1\n",
            "Epoch 30: Weights=[-0.75921134], Bias=-0.43576774681843744, Errors=1\n",
            "Epoch 31: Weights=[-0.75921134], Bias=-0.42576774681843743, Errors=1\n",
            "Epoch 32: Weights=[-0.75921134], Bias=-0.4157677468184374, Errors=1\n",
            "Epoch 33: Weights=[-0.75921134], Bias=-0.4057677468184374, Errors=1\n",
            "Epoch 34: Weights=[-0.75921134], Bias=-0.3957677468184374, Errors=1\n",
            "Epoch 35: Weights=[-0.75921134], Bias=-0.3857677468184374, Errors=1\n",
            "Epoch 36: Weights=[-0.75921134], Bias=-0.3757677468184374, Errors=1\n",
            "Epoch 37: Weights=[-0.75921134], Bias=-0.3657677468184374, Errors=1\n",
            "Epoch 38: Weights=[-0.75921134], Bias=-0.35576774681843737, Errors=1\n",
            "Epoch 39: Weights=[-0.75921134], Bias=-0.34576774681843736, Errors=1\n",
            "Epoch 40: Weights=[-0.75921134], Bias=-0.33576774681843735, Errors=1\n",
            "Epoch 41: Weights=[-0.75921134], Bias=-0.32576774681843734, Errors=1\n",
            "Epoch 42: Weights=[-0.75921134], Bias=-0.31576774681843733, Errors=1\n",
            "Epoch 43: Weights=[-0.75921134], Bias=-0.3057677468184373, Errors=1\n",
            "Epoch 44: Weights=[-0.75921134], Bias=-0.2957677468184373, Errors=1\n",
            "Epoch 45: Weights=[-0.75921134], Bias=-0.2857677468184373, Errors=1\n",
            "Epoch 46: Weights=[-0.75921134], Bias=-0.2757677468184373, Errors=1\n",
            "Epoch 47: Weights=[-0.75921134], Bias=-0.2657677468184373, Errors=1\n",
            "Epoch 48: Weights=[-0.75921134], Bias=-0.2557677468184373, Errors=1\n",
            "Epoch 49: Weights=[-0.75921134], Bias=-0.24576774681843727, Errors=1\n",
            "Epoch 50: Weights=[-0.75921134], Bias=-0.23576774681843726, Errors=1\n",
            "Epoch 51: Weights=[-0.75921134], Bias=-0.22576774681843725, Errors=1\n",
            "Epoch 52: Weights=[-0.75921134], Bias=-0.21576774681843724, Errors=1\n",
            "Epoch 53: Weights=[-0.75921134], Bias=-0.20576774681843724, Errors=1\n",
            "Epoch 54: Weights=[-0.75921134], Bias=-0.19576774681843723, Errors=1\n",
            "Epoch 55: Weights=[-0.75921134], Bias=-0.18576774681843722, Errors=1\n",
            "Epoch 56: Weights=[-0.75921134], Bias=-0.1757677468184372, Errors=1\n",
            "Epoch 57: Weights=[-0.75921134], Bias=-0.1657677468184372, Errors=1\n",
            "Epoch 58: Weights=[-0.75921134], Bias=-0.1557677468184372, Errors=1\n",
            "Epoch 59: Weights=[-0.75921134], Bias=-0.14576774681843718, Errors=1\n",
            "Epoch 60: Weights=[-0.75921134], Bias=-0.13576774681843717, Errors=1\n",
            "Epoch 61: Weights=[-0.75921134], Bias=-0.12576774681843716, Errors=1\n",
            "Epoch 62: Weights=[-0.75921134], Bias=-0.11576774681843717, Errors=1\n",
            "Epoch 63: Weights=[-0.75921134], Bias=-0.10576774681843717, Errors=1\n",
            "Epoch 64: Weights=[-0.75921134], Bias=-0.09576774681843718, Errors=1\n",
            "Epoch 65: Weights=[-0.75921134], Bias=-0.08576774681843718, Errors=1\n",
            "Epoch 66: Weights=[-0.75921134], Bias=-0.07576774681843719, Errors=1\n",
            "Epoch 67: Weights=[-0.75921134], Bias=-0.0657677468184372, Errors=1\n",
            "Epoch 68: Weights=[-0.75921134], Bias=-0.05576774681843719, Errors=1\n",
            "Epoch 69: Weights=[-0.75921134], Bias=-0.04576774681843719, Errors=1\n",
            "Epoch 70: Weights=[-0.75921134], Bias=-0.03576774681843719, Errors=1\n",
            "Epoch 71: Weights=[-0.75921134], Bias=-0.025767746818437187, Errors=1\n",
            "Epoch 72: Weights=[-0.75921134], Bias=-0.015767746818437185, Errors=1\n",
            "Epoch 73: Weights=[-0.75921134], Bias=-0.005767746818437185, Errors=1\n",
            "Epoch 74: Weights=[-0.75921134], Bias=0.004232253181562815, Errors=1\n",
            "Epoch 75: Weights=[-0.75921134], Bias=0.004232253181562815, Errors=0\n",
            "Training completed successfully!\n",
            "\n",
            "Testing NOT gate:\n",
            "Input: [0], Target: 1, Predicted Output: 1\n",
            "Input: [1], Target: 0, Predicted Output: 0\n",
            "Accuracy: 100.00%\n",
            "Accuracy for NOT gate: 100.00%\n"
          ]
        }
      ],
      "source": [
        "# Train and test the perceptron for each gate\n",
        "for gate in [\"AND\", \"OR\", \"NOT\"]:\n",
        "    print(f\"\\nTraining perceptron for {gate} gate...\")\n",
        "    X, y = get_gate_data(gate)\n",
        "    input_size = X.shape[1]  # Number of features (inputs)\n",
        "    perceptron = SimplePerceptron(input_size=input_size, learning_rate=0.01, epochs=200)\n",
        "    perceptron.train(X, y)  # Train the perceptron\n",
        "\n",
        "    # Test perceptron after training and calculate accuracy\n",
        "    print(f\"\\nTesting {gate} gate:\")\n",
        "    accuracy = perceptron.test(X, y)  # Test and calculate accuracy\n",
        "    print(f\"Accuracy for {gate} gate: {accuracy:.2f}%\")"
      ]
    },
    {
      "cell_type": "markdown",
      "metadata": {
        "id": "vBRFmmxeGAn2"
      },
      "source": [
        "**Step 5: Analysis of results**"
      ]
    },
    {
      "cell_type": "markdown",
      "metadata": {
        "id": "QFDjkOLoGJcS"
      },
      "source": [
        "**How are the accuracies of each gate’s prediction?**\n",
        "\n",
        "All 3 gates achieved a 100% accuracy.\n",
        "\n",
        "*Why 100% Accuracy?*\n",
        "\n",
        "1.  The gates (AND, OR, NOT) are relatively simple tasks that can be learned by the perceptron with a small number of training epochs.\n",
        "2.  The perceptron can correctly separate the output classes based on the linear nature of these gates (especially for AND and OR).\n",
        "3.  The training stops as soon as the perceptron makes no errors (i.e., all inputs are classified correctly), and this happens quite quickly for these gates."
      ]
    },
    {
      "cell_type": "markdown",
      "metadata": {
        "id": "GWBswZd5Igpg"
      },
      "source": [
        "**Can simple perception implement complex gates like XOR, comment?**\n",
        "\n",
        "A **simple perceptron** (with a single layer of output nodes and no hidden layers) **cannot implement complex gates like XOR**.\n",
        "\n",
        "1. **XOR Gate Behavior**:\n",
        "   The XOR gate has the following truth table:\n",
        "   ```\n",
        "   Input 1 | Input 2 | Output\n",
        "   ---------------------------\n",
        "      0     |    0    |    0\n",
        "      0     |    1    |    1\n",
        "      1     |    0    |    1\n",
        "      1     |    1    |    0\n",
        "   ```\n",
        "   The key observation is that the XOR gate is **not linearly separable**. This means that there is no straight line (or hyperplane in higher dimensions) that can separate the inputs that produce output `1` from the inputs that produce output `0`.\n",
        "\n",
        "2. **Linear Separability**:\n",
        "   - A perceptron works by computing a weighted sum of inputs and applying a threshold function (step function), which produces a linear decision boundary.\n",
        "   - For simple gates like **AND** and **OR**, you can find a linear boundary that separates the two classes (outputs `0` and `1`).\n",
        "   - For XOR, the points where the output is `1` (i.e., (0,1) and (1,0)) cannot be separated from the points where the output is `0` (i.e., (0,0) and (1,1)) by a single line. Hence, a single perceptron cannot learn the XOR function.\n",
        "\n",
        "3. **Solution for XOR**:\n",
        "   - The XOR gate **requires a more complex model**, typically a **multi-layer perceptron (MLP)** with at least one hidden layer. A multi-layer perceptron can combine multiple simple perceptrons to learn non-linear decision boundaries and thus implement complex logic like XOR.\n",
        "   - The use of a **non-linear activation function** (like ReLU or sigmoid) in the hidden layer allows the model to learn non-linear relationships between the inputs and outputs, which enables it to correctly classify XOR.\n",
        "\n",
        "### In Summary:\n",
        "- **Simple perceptron**: Can only handle linearly separable problems (like AND, OR, NOT).\n",
        "- **XOR problem**: Requires a **multi-layer perceptron** with hidden layers for non-linear separability.\n",
        "\n"
      ]
    },
    {
      "cell_type": "markdown",
      "metadata": {
        "id": "cO-jxaQQIvjY"
      },
      "source": [
        "#**Task.02:MNIST Dataset**"
      ]
    },
    {
      "cell_type": "markdown",
      "metadata": {
        "id": "T118ZY_WJQ7g"
      },
      "source": [
        "**Step 1: Load and preprocess the dataset**"
      ]
    },
    {
      "cell_type": "markdown",
      "metadata": {
        "id": "NSQflpzpLV1F"
      },
      "source": [
        "As the lab requires not using any library, I am downloading the dataset and dropping files in colab."
      ]
    },
    {
      "cell_type": "code",
      "execution_count": null,
      "metadata": {
        "colab": {
          "base_uri": "https://localhost:8080/"
        },
        "id": "tGrrG2wHLrsE",
        "outputId": "c869b6a1-a68f-4540-83fe-682d2fbdcecf"
      },
      "outputs": [
        {
          "name": "stdout",
          "output_type": "stream",
          "text": [
            "Collecting idx2numpy\n",
            "  Downloading idx2numpy-1.2.3.tar.gz (6.8 kB)\n",
            "  Preparing metadata (setup.py) ... \u001b[?25l\u001b[?25hdone\n",
            "Requirement already satisfied: numpy in /usr/local/lib/python3.10/dist-packages (from idx2numpy) (1.26.4)\n",
            "Requirement already satisfied: six in /usr/local/lib/python3.10/dist-packages (from idx2numpy) (1.16.0)\n",
            "Building wheels for collected packages: idx2numpy\n",
            "  Building wheel for idx2numpy (setup.py) ... \u001b[?25l\u001b[?25hdone\n",
            "  Created wheel for idx2numpy: filename=idx2numpy-1.2.3-py3-none-any.whl size=7904 sha256=9e08855b458f30c6678f5504e92daed7fc6dbcc648d16aad4f27219d35c61714\n",
            "  Stored in directory: /root/.cache/pip/wheels/e0/f4/e7/643fc5f932ec2ff92997f43f007660feb23f948aa8486f1107\n",
            "Successfully built idx2numpy\n",
            "Installing collected packages: idx2numpy\n",
            "Successfully installed idx2numpy-1.2.3\n"
          ]
        }
      ],
      "source": [
        "!pip install idx2numpy"
      ]
    },
    {
      "cell_type": "code",
      "execution_count": null,
      "metadata": {
        "id": "Zk8Y-RNMJDaY"
      },
      "outputs": [],
      "source": [
        "import numpy as np\n",
        "import matplotlib.pyplot as plt\n",
        "from sklearn.model_selection import train_test_split\n",
        "import idx2numpy  # To load idx files\n",
        "def load_data():\n",
        "    # Load image and label data from the idx files\n",
        "    X_train = idx2numpy.convert_from_file('/content/train-images.idx3-ubyte')  # Shape: (60000, 28, 28)\n",
        "    y_train = idx2numpy.convert_from_file('/content/train-labels.idx1-ubyte')  # Shape: (60000,)\n",
        "    X_test = idx2numpy.convert_from_file('/content/t10k-images.idx3-ubyte')  # Shape: (10000, 28, 28)\n",
        "    y_test = idx2numpy.convert_from_file('/content/t10k-labels.idx1-ubyte')  # Shape: (10000,)\n",
        "\n",
        "    return X_train, y_train, X_test, y_test\n",
        "\n"
      ]
    },
    {
      "cell_type": "code",
      "execution_count": null,
      "metadata": {
        "id": "tscMPBa6L8O6"
      },
      "outputs": [],
      "source": [
        "# Normalize the data (scale pixel values to [0, 1])\n",
        "def preprocess_data(X_train, X_test):\n",
        "    X_train_normalized = X_train.astype('float32') / 255.0\n",
        "    X_test_normalized = X_test.astype('float32') / 255.0\n",
        "    return X_train_normalized, X_test_normalized"
      ]
    },
    {
      "cell_type": "code",
      "execution_count": null,
      "metadata": {
        "id": "B5uzpPiCLyjp"
      },
      "outputs": [],
      "source": [
        "# Reshape the data to flatten the images (28x28 to 784)\n",
        "def reshape_data(X_train, X_test):\n",
        "    X_train_flattened = X_train.reshape(X_train.shape[0], -1)  # Flattening images\n",
        "    X_test_flattened = X_test.reshape(X_test.shape[0], -1)  # Flattening images\n",
        "    return X_train_flattened, X_test_flattened"
      ]
    },
    {
      "cell_type": "code",
      "execution_count": null,
      "metadata": {
        "colab": {
          "base_uri": "https://localhost:8080/"
        },
        "id": "XT0IeXGCNWO0",
        "outputId": "ab04c7fd-a30d-456c-c39b-2f953aa3b26a"
      },
      "outputs": [
        {
          "name": "stdout",
          "output_type": "stream",
          "text": [
            "Training data shape: (48000, 784), Training labels shape: (48000,)\n",
            "Validation data shape: (12000, 784), Validation labels shape: (12000,)\n",
            "Test data shape: (10000, 784), Test labels shape: (10000,)\n"
          ]
        }
      ],
      "source": [
        "# Split the dataset into training and test sets (if needed)\n",
        "def split_data(X, y, test_size=0.2):\n",
        "    return train_test_split(X, y, test_size=test_size, random_state=42)\n",
        "\n",
        "# Load and preprocess the dataset\n",
        "X_train, y_train, X_test, y_test = load_data()\n",
        "X_train_normalized, X_test_normalized = preprocess_data(X_train, X_test)\n",
        "X_train_flattened, X_test_flattened = reshape_data(X_train_normalized, X_test_normalized)\n",
        "\n",
        "\n",
        "X_train_split, X_val_split, y_train_split, y_val_split = split_data(X_train_flattened, y_train)\n",
        "\n",
        "# Print shapes of the datasets to verify.\n",
        "print(f\"Training data shape: {X_train_split.shape}, Training labels shape: {y_train_split.shape}\")\n",
        "print(f\"Validation data shape: {X_val_split.shape}, Validation labels shape: {y_val_split.shape}\")\n",
        "print(f\"Test data shape: {X_test_flattened.shape}, Test labels shape: {y_test.shape}\")\n"
      ]
    },
    {
      "cell_type": "markdown",
      "metadata": {
        "id": "x0wFPSrdOKBP"
      },
      "source": [
        "**Step 2: Visualize the dataset**"
      ]
    },
    {
      "cell_type": "code",
      "execution_count": null,
      "metadata": {
        "colab": {
          "base_uri": "https://localhost:8080/",
          "height": 154
        },
        "id": "R1aT68LwOP5D",
        "outputId": "8a9b11be-6ea9-479c-b76e-e8a05f815d20"
      },
      "outputs": [
        {
          "data": {
            "image/png": "[encoded data removed]",
            "text/plain": [
              "<Figure size 1500x500 with 10 Axes>"
            ]
          },
          "metadata": {},
          "output_type": "display_data"
        }
      ],
      "source": [
        "import numpy as np\n",
        "import matplotlib.pyplot as plt\n",
        "\n",
        "# Visualize some random images from the dataset\n",
        "def visualize_random_images(X_train, y_train, num_images=5):\n",
        "    # Generate random indices\n",
        "    random_indices = np.random.choice(len(X_train), num_images, replace=False)\n",
        "\n",
        "    # Create subplots to display images\n",
        "    fig, axes = plt.subplots(1, num_images, figsize=(15, 5))\n",
        "\n",
        "    for i, ax in enumerate(axes):\n",
        "        # Get the image data and corresponding label\n",
        "        image = X_train[random_indices[i]]\n",
        "        label = y_train[random_indices[i]]\n",
        "\n",
        "        # Display the image\n",
        "        ax.imshow(image, cmap='gray')\n",
        "        ax.set_title(f\"Label: {label}\")\n",
        "        ax.axis('off')  # Hide axis\n",
        "\n",
        "    plt.show()\n",
        "\n",
        "# Visualize 10 random images from the training set\n",
        "visualize_random_images(X_train, y_train, num_images=10)\n"
      ]
    },
    {
      "cell_type": "markdown",
      "metadata": {
        "id": "cJwZZy5ROoGs"
      },
      "source": [
        "**Step 3: Implement the Simple Perceptron model**"
      ]
    },
    {
      "cell_type": "code",
      "execution_count": null,
      "metadata": {
        "id": "4xaiHE_7OrzA"
      },
      "outputs": [],
      "source": [
        "import numpy as np\n",
        "\n",
        "class SimplePerceptronSoftmax:\n",
        "    def __init__(self, input_size, num_classes, learning_rate=0.001, epochs=50):\n",
        "        self.weights = np.random.randn(input_size, num_classes)  # Initialize weights for multi-class\n",
        "        self.bias = np.random.randn(num_classes)  # Bias for each class\n",
        "        self.learning_rate = learning_rate\n",
        "        self.epochs = epochs\n",
        "        self.num_classes = num_classes\n",
        "\n",
        "    def softmax(self, z):\n",
        "        \"\"\"Softmax activation function\"\"\"\n",
        "        exp_values = np.exp(z - np.max(z))  # Subtract max for numerical stability\n",
        "        return exp_values / np.sum(exp_values, axis=0)\n",
        "\n",
        "    def forward(self, x):\n",
        "        \"\"\"Compute the output of the perceptron (forward propagation with softmax)\"\"\"\n",
        "        z = np.dot(x, self.weights) + self.bias\n",
        "        return self.softmax(z)\n",
        "\n",
        "    def compute_loss(self, y, output):\n",
        "        \"\"\"Compute cross-entropy loss\"\"\"\n",
        "        return -np.sum(y * np.log(output))\n",
        "\n",
        "    def backward(self, X, y, output):\n",
        "        \"\"\"Update weights and biases using backward propagation\"\"\"\n",
        "        error = output - y\n",
        "        dw = np.dot(X.T, error)  # Gradient for weights\n",
        "        db = np.sum(error, axis=0)  # Gradient for bias\n",
        "        # Update weights and bias using the learning rate\n",
        "        self.weights -= self.learning_rate * dw\n",
        "        self.bias -= self.learning_rate * db\n",
        "        return error\n",
        "\n",
        "    def train(self, X, y):\n",
        "        \"\"\"Train the perceptron over multiple epochs\"\"\"\n",
        "        for epoch in range(self.epochs):\n",
        "            total_loss = 0\n",
        "            for x, target in zip(X, y):\n",
        "                output = self.forward(x)\n",
        "                loss = self.compute_loss(target, output)\n",
        "                total_loss += loss\n",
        "                # Backpropagation to update weights and bias\n",
        "                self.backward(x.reshape(1, -1), target.reshape(1, -1), output)\n",
        "\n",
        "            print(f\"Epoch {epoch + 1}: Total loss = {total_loss}\")\n",
        "\n",
        "            # Early stop if loss is minimal\n",
        "            if total_loss < 1e-6:\n",
        "                print(\"Training complete!\")\n",
        "                break\n",
        "\n",
        "    def predict(self, X):\n",
        "        \"\"\"Predict the class for each input\"\"\"\n",
        "        output = self.forward(X)\n",
        "        return np.argmax(output, axis=1)  # Return the index of the max probability"
      ]
    },
    {
      "cell_type": "markdown",
      "metadata": {
        "id": "ycC4ip6cQRvV"
      },
      "source": [
        "**Step 4: Train the Simple Perceptron model**"
      ]
    },
    {
      "cell_type": "code",
      "execution_count": null,
      "metadata": {
        "colab": {
          "base_uri": "https://localhost:8080/"
        },
        "id": "0vSoAzFGREVl",
        "outputId": "132e1803-110b-48e1-d8a1-146dd317a181"
      },
      "outputs": [
        {
          "name": "stdout",
          "output_type": "stream",
          "text": [
            "Epoch 1: Total loss = 8559093.636305084\n",
            "Epoch 2: Total loss = 5919691.962554076\n",
            "Epoch 3: Total loss = 5448691.646939118\n",
            "Epoch 4: Total loss = 5252647.088505608\n",
            "Epoch 5: Total loss = 5151631.714526476\n",
            "Epoch 6: Total loss = 5092633.441465101\n",
            "Epoch 7: Total loss = 5055063.778796093\n",
            "Epoch 8: Total loss = 5029550.150463552\n",
            "Epoch 9: Total loss = 5011331.2505714595\n",
            "Epoch 10: Total loss = 4997785.206428603\n",
            "Epoch 11: Total loss = 4987375.365411837\n",
            "Epoch 12: Total loss = 4979154.394374985\n",
            "Epoch 13: Total loss = 4972512.859588726\n",
            "Epoch 14: Total loss = 4967044.032675868\n",
            "Epoch 15: Total loss = 4962467.6185352765\n",
            "Epoch 16: Total loss = 4958584.933543969\n",
            "Epoch 17: Total loss = 4955251.60579687\n",
            "Epoch 18: Total loss = 4952360.40619967\n",
            "Epoch 19: Total loss = 4949830.133796089\n",
            "Epoch 20: Total loss = 4947598.229350279\n",
            "Epoch 21: Total loss = 4945615.748694155\n",
            "Epoch 22: Total loss = 4943843.867707368\n",
            "Epoch 23: Total loss = 4942251.404581899\n",
            "Epoch 24: Total loss = 4940813.032073483\n",
            "Epoch 25: Total loss = 4939507.966826197\n",
            "Epoch 26: Total loss = 4938318.994365317\n",
            "Epoch 27: Total loss = 4937231.734077086\n",
            "Epoch 28: Total loss = 4936234.078289447\n",
            "Epoch 29: Total loss = 4935315.759364584\n",
            "Epoch 30: Total loss = 4934468.012095847\n",
            "Epoch 31: Total loss = 4933683.307859286\n",
            "Epoch 32: Total loss = 4932955.143387917\n",
            "Epoch 33: Total loss = 4932277.871506563\n",
            "Epoch 34: Total loss = 4931646.564450769\n",
            "Epoch 35: Total loss = 4931056.902645014\n",
            "Epoch 36: Total loss = 4930505.083601717\n",
            "Epoch 37: Total loss = 4929987.746776371\n",
            "Epoch 38: Total loss = 4929501.9112387635\n",
            "Epoch 39: Total loss = 4929044.923642448\n",
            "Epoch 40: Total loss = 4928614.414565973\n",
            "Epoch 41: Total loss = 4928208.261692516\n",
            "Epoch 42: Total loss = 4927824.558587773\n",
            "Epoch 43: Total loss = 4927461.58812011\n",
            "Epoch 44: Total loss = 4927117.799717181\n",
            "Epoch 45: Total loss = 4926791.789831779\n",
            "Epoch 46: Total loss = 4926482.285100051\n",
            "Epoch 47: Total loss = 4926188.127755536\n",
            "Epoch 48: Total loss = 4925908.262966438\n",
            "Epoch 49: Total loss = 4925641.727787913\n",
            "Epoch 50: Total loss = 4925387.641513001\n",
            "Epoch 51: Total loss = 4925145.197200402\n",
            "Epoch 52: Total loss = 4924913.65422453\n",
            "Epoch 53: Total loss = 4924692.331708111\n",
            "Epoch 54: Total loss = 4924480.60271003\n",
            "Epoch 55: Total loss = 4924277.889069987\n",
            "Epoch 56: Total loss = 4924083.656837957\n",
            "Epoch 57: Total loss = 4923897.412196084\n",
            "Epoch 58: Total loss = 4923718.697812359\n",
            "Epoch 59: Total loss = 4923547.08959852\n",
            "Epoch 60: Total loss = 4923382.193784597\n",
            "Epoch 61: Total loss = 4923223.644306605\n",
            "Epoch 62: Total loss = 4923071.100448872\n",
            "Epoch 63: Total loss = 4922924.2447296595\n",
            "Epoch 64: Total loss = 4922782.780977092\n",
            "Epoch 65: Total loss = 4922646.432608824\n",
            "Epoch 66: Total loss = 4922514.941058869\n",
            "Epoch 67: Total loss = 4922388.064362901\n",
            "Epoch 68: Total loss = 4922265.575866094\n",
            "Epoch 69: Total loss = 4922147.263054247\n",
            "Epoch 70: Total loss = 4922032.926481371\n",
            "Epoch 71: Total loss = 4921922.378803801\n",
            "Epoch 72: Total loss = 4921815.443886312\n",
            "Epoch 73: Total loss = 4921711.955994945\n",
            "Epoch 74: Total loss = 4921611.759048417\n",
            "Epoch 75: Total loss = 4921514.705945189\n",
            "Epoch 76: Total loss = 4921420.657933151\n",
            "Epoch 77: Total loss = 4921329.484041593\n",
            "Epoch 78: Total loss = 4921241.060544742\n",
            "Epoch 79: Total loss = 4921155.270488344\n",
            "Epoch 80: Total loss = 4921072.003235768\n",
            "Epoch 81: Total loss = 4920991.154055397\n",
            "Epoch 82: Total loss = 4920912.62374054\n",
            "Epoch 83: Total loss = 4920836.318263466\n",
            "Epoch 84: Total loss = 4920762.148437675\n",
            "Epoch 85: Total loss = 4920690.029629603\n",
            "Epoch 86: Total loss = 4920619.8814679645\n",
            "Epoch 87: Total loss = 4920551.627594146\n",
            "Epoch 88: Total loss = 4920485.195410361\n",
            "Epoch 89: Total loss = 4920420.515867552\n",
            "Epoch 90: Total loss = 4920357.523248496\n",
            "Epoch 91: Total loss = 4920296.154977124\n",
            "Epoch 92: Total loss = 4920236.351438464\n",
            "Epoch 93: Total loss = 4920178.055808438\n",
            "Epoch 94: Total loss = 4920121.213896531\n",
            "Epoch 95: Total loss = 4920065.774003991\n",
            "Epoch 96: Total loss = 4920011.686775838\n",
            "Epoch 97: Total loss = 4919958.905081448\n",
            "Epoch 98: Total loss = 4919907.383894116\n",
            "Epoch 99: Total loss = 4919857.080170655\n",
            "Epoch 100: Total loss = 4919807.952757458\n"
          ]
        }
      ],
      "source": [
        "# Initialize and train the perceptron model\n",
        "perceptron = SimplePerceptronSoftmax(input_size=X_train_flattened.shape[1], num_classes=10, learning_rate=0.01, epochs=100)\n",
        "perceptron.train(X_train_split, y_train_split)"
      ]
    },
    {
      "cell_type": "markdown",
      "metadata": {
        "id": "_Qhibe12RODI"
      },
      "source": [
        "**Step 5: Evaluate the performance of the Simple Perceptron model on the test set**"
      ]
    },
    {
      "cell_type": "code",
      "execution_count": null,
      "metadata": {
        "colab": {
          "base_uri": "https://localhost:8080/"
        },
        "id": "Wr8TDLR4RNH0",
        "outputId": "bbf7ec90-6fc4-4227-d0e7-612fc59f3a84"
      },
      "outputs": [
        {
          "name": "stdout",
          "output_type": "stream",
          "text": [
            "\n",
            "Testing the perceptron:\n",
            "Test Accuracy: 9.80%\n"
          ]
        }
      ],
      "source": [
        "# Test the perceptron after training\n",
        "print(\"\\nTesting the perceptron:\")\n",
        "predictions = perceptron.predict(X_test_flattened)\n",
        "\n",
        "# Calculate accuracy\n",
        "accuracy = np.mean(y_test == predictions) * 100\n",
        "print(f\"Test Accuracy: {accuracy:.2f}%\")"
      ]
    },
    {
      "cell_type": "markdown",
      "metadata": {
        "id": "4GBZUGOVTlnd"
      },
      "source": [
        "**Step 6: Analysis on the results**"
      ]
    },
    {
      "cell_type": "markdown",
      "metadata": {
        "id": "DR2WlMKTT21w"
      },
      "source": [
        "An accuracy of **9.80%** for the test set is **not satisfactory**, especially when using the MNIST dataset. MNIST is a relatively simple dataset, and modern models should be able to achieve much higher accuracy (typically above 90% for simple models, and even higher with more advanced models like Convolutional Neural Networks). Here are a few ideas on how to improve the accuracy:\n",
        "\n",
        "### 1. **Model Improvements**:\n",
        "   - **Increase Model Complexity**:\n",
        "     The Simple Perceptron model used here is quite basic, and it's not well-suited for solving complex problems like MNIST, which requires a model capable of capturing spatial hierarchies in the data (like how numbers are written).\n",
        "     \n",
        "     - **Use Multi-Layer Perceptron (MLP)**: A simple perceptron with a single output layer is not sufficient for a complex dataset. Adding hidden layers (forming a Multi-Layer Perceptron) can help the model learn more complex representations.\n",
        "     \n",
        "     - **Try Convolutional Neural Networks (CNNs)**: CNNs are the go-to architecture for image classification tasks. They are specifically designed to work well with grid-like data such as images. Even a small CNN model will likely outperform a perceptron.\n",
        "\n",
        "### 2. **Hyperparameter Tuning**:\n",
        "   - **Learning Rate**: The learning rate might be too small. A learning rate that is too small can lead to very slow training and convergence, while one that is too large can cause overshooting of the optimal weights. It might help to experiment with larger learning rates like `0.1`.\n",
        "   \n",
        "   - **Number of Epochs**: The model might not be trained for enough epochs. \n",
        "\n",
        "### 3. **Regularization**:\n",
        "   - **L2 Regularization**: Adding regularization (like L2 regularization) can help prevent overfitting and improve generalization. This will reduce the impact of large weights and encourage the model to learn simpler, more robust features.\n",
        "\n",
        "### 4. **Data Augmentation**:\n",
        "   - The MNIST dataset has a fixed set of training images. We can apply **data augmentation** techniques such as rotation, scaling, shifting, and flipping to artificially expand the dataset and help the model generalize better. This is especially useful when the model is struggling to generalize well on unseen data.\n",
        "\n",
        "### 5. **Weight Initialization**:\n",
        "   - **Better Weight Initialization**: The perceptron uses random weight initialization which can sometimes lead to poor convergence. Using more advanced weight initialization techniques (like Xavier or He initialization) can help the network converge faster and more effectively.\n",
        "\n",
        "### 6. **Optimizer**:\n",
        "   - **Switch Optimizer**: The perceptron is using basic gradient descent, which might be slow and inefficient. We can switch to more advanced optimizers like **SGD with momentum** or **Adam**, which can lead to faster convergence and better performance.\n",
        "\n",
        "### 7. **Batching**:\n",
        "   - **Mini-batch Gradient Descent**: Instead of updating weights for each individual training sample (stochastic gradient descent), you can use mini-batches of data for each weight update. This tends to result in more stable updates and can speed up training.\n",
        "\n",
        "### 8. **Data Preprocessing**:\n",
        "   - **Better Normalization**: Although the pixel values have been normalized to a range of [0, 1], consider also applying **zero-centering** (subtracting the mean pixel value from each pixel) to help the model learn better.\n",
        "\n",
        "### 9. **Model Evaluation**:\n",
        "   - **Cross-Validation**: Instead of relying on a single split between training and testing data, using **cross-validation** can help ensure that the model is generalizing well across all subsets of the data.\n",
        "\n",
        "---\n",
        "\n",
        "### Summary:\n",
        "While the current Simple Perceptron model is not performing well (with only ~9.80% accuracy), switching to a more sophisticated model (like an MLP or CNN), tuning hyperparameters, adding regularization, or using advanced optimizers could significantly improve accuracy. Starting with these suggestions and iterating on the model will likely lead to a much better result on the MNIST dataset."
      ]
    }
  ],
  "metadata": {
    "colab": {
      "provenance": []
    },
    "kernelspec": {
      "display_name": "Python 3",
      "name": "python3"
    },
    "language_info": {
      "name": "python"
    }
  },
  "nbformat": 4,
  "nbformat_minor": 0
}
